{
 "cells": [
  {
   "cell_type": "markdown",
   "metadata": {},
   "source": [
    "# Hypothesis Testing:\n",
    ">Hypothesis testing using permutation\n",
    "- toc: true \n",
    "- badges: true\n",
    "- comments: true\n",
    "- image:https://www.advanceinnovationgroup.com/blog/uploads/images/image_750x_5cc1653c3c4c9.jpg\n",
    "- author: Uday Paila\n",
    "- categories: [Hypothesis testing, null hypothesis, 2-sample test, one-sample-test, p-value, anova]"
   ]
  }
 ],
 "metadata": {
  "kernelspec": {
   "display_name": "Python 3",
   "language": "python",
   "name": "python3"
  },
  "language_info": {
   "codemirror_mode": {
    "name": "ipython",
    "version": 3
   },
   "file_extension": ".py",
   "mimetype": "text/x-python",
   "name": "python",
   "nbconvert_exporter": "python",
   "pygments_lexer": "ipython3",
   "version": "3.7.7"
  }
 },
 "nbformat": 4,
 "nbformat_minor": 4
}
