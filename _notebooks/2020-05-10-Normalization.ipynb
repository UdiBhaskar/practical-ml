{
 "cells": [
  {
   "cell_type": "markdown",
   "metadata": {},
   "source": [
    "# Normalization for Better Generalization and Faster Training\n",
    "> Different types of Normalization layers ( Batch Norm, Layernorm)\n",
    "- toc: true \n",
    "- badges: true\n",
    "- comments: true\n",
    "- image:https://i.imgur.com/Mpeu82o.jpg\n",
    "- author: Uday Paila\n",
    "- categories: [NLP, Batchnorm, layernorm, normalization]"
   ]
  },
  {
   "cell_type": "markdown",
   "metadata": {},
   "source": [
    "## Batch Normalization\n",
    "\n",
    "Training Deep Neural Networks is complicated by the fact that the distribution of each layer’s inputs changes during training, as the parameters of the previous layers change. This slows down the training by requiring lower learning rates and careful parameter initialization and makes it notoriously hard to train models with saturating nonlinearities. so to overcome this, we can do a normalization after some layers as below. \n",
    "\n",
    "<br>\n",
    "\n",
    "![BN](https://i.imgur.com/l26z2Zz.png \"Credit:https://arxiv.org/pdf/2003.07845.pdf\")\n",
    "\n",
    "<br>\n",
    "\n",
    "It calculates the batch means, std, and using those, normalizes the data then creates running mean and std which will be used in inference. \n",
    "One intuition about why BatchNorm works is that it removes the internal covariance shift. You can check that in the below video. \n",
    "\n",
    "<br>\n",
    "\n",
    ">youtube: https://www.youtube.com/watch?v=nUUqwaxLnWs\n",
    "\n",
    "Another intuition: \n",
    "Batch Normalization normalizes the activations in the intermediate layers. BN primarily enables training with a larger learning rate which is cause for faster convergence and better generalization. \n",
    "\n",
    "Larger batch size training may converge to sharp minima. If we converge to sharp minima, generalization capacity may decrease. so noise in the SGD has an important role in regularizing the NN. Similarly, Higher learning rate will bias the network towards wider minima so it will give the better generalization. But, training with a higher learning rate may cause an explosion in the updates. \n",
    "\n",
    "If we compare the gradients between with batch normalization and without batch normalization, without batch norm network gradients are larger and heavier tailed as shown below so we can train with larger learning rates with BN. \n",
    "\n",
    "![BNGradeints](https://i.imgur.com/NuppcAM.png \"Credit:https://arxiv.org/pdf/1806.02375.pdf\")\n",
    "\n",
    "\n",
    "<br>\n",
    "\n",
    ">Important: BN is widely adopted in computer vision but, it leads to significant performance degradation for NLP. Nowadays Layer Normalization is preferred normalization technique for NLP tasks.\n",
    "\n",
    "<br> \n",
    "\n",
    "\n",
    ">Note: BN cannot be applied to online learning tasks. BN cannot applied to extremely large distributed models where the minibatches have to be small. For forward neural networks, BN can be directly applied, because each layer has a fixed number of neurons, and the mean and variance statistics of each neuron in each layer of the network can be directly stored for model prediction, but in the RNNs network, different mini-batch may have different input sequence length, it is difficult to calculate statistical information, and the test sequence length cannot be greater than the maximum training sequence length\n",
    "\n",
    "You can check the figure below from a paper, which compares the BN in CV and NLP. The differences between running mean/Variance and batch mean/variance exhibit very high variance with extreme outliers in Transformers.  \n",
    "\n",
    "![BN](https://i.imgur.com/5xCloXd.png \"Credit:https://arxiv.org/pdf/2003.07845.pdf\")"
   ]
  },
  {
   "cell_type": "markdown",
   "metadata": {},
   "source": [
    "  "
   ]
  },
  {
   "cell_type": "code",
   "execution_count": 15,
   "metadata": {},
   "outputs": [
    {
     "name": "stdout",
     "output_type": "stream",
     "text": [
      "Number of weights is 4\n"
     ]
    }
   ],
   "source": [
    "import tensorflow as tf\n",
    "input_layer = tf.keras.Input(shape=(6,))\n",
    "bn_layer = tf.keras.layers.BatchNormalization()\n",
    "bn_layer_out = bn_layer(input_layer)\n",
    "print('Number of weights is', len(bn_layer.get_weights()))"
   ]
  },
  {
   "cell_type": "markdown",
   "metadata": {},
   "source": [
    "  "
   ]
  },
  {
   "cell_type": "markdown",
   "metadata": {},
   "source": [
    "If we have `n` features as input to the BN layer, the weight matrix we have to learn is of size `(4, n)`, i.e. `n` features for each beta_initializer, gamma_initializer, moving_mean_initializer, moving_variance_initializer. \n",
    "Please read Tensorflow documentation to know more about Training mode, inference mode of the BN layer. It is very important to take care of the mode in BN layer. "
   ]
  },
  {
   "cell_type": "markdown",
   "metadata": {},
   "source": [
    "## Layer Normalization\n",
    "\n",
    "Unlike Batch normalization, it normalized horizontally i.e. it normalizes each data point. so $\\mu$, $\\sigma$ not depend on the batch. layer normalization does not have to use \"running mean\" and \"running variance\".\n",
    "\n",
    "![layernorm](https://i.imgur.com/XRuwFls.png \"Credit:https://papers.nips.cc/paper/8689-understanding-and-improving-layer-normalization.pdf\")\n",
    "\n",
    "It gives the better results because of the gradinets with respect to  $\\mu$, $\\sigma$ in Layer Normalization. Derivative of $\\mu$ re-centers network gradients to zero. Derivative of $\\sigma$ reduces variance of network gradient, which can be seen a kind of re-scaling. \n",
    "\n",
    "\n",
    "<br>\n",
    "\n",
    "\n",
    ">Important: The parameters of LayerNorm, including the bias and gain, increase the risk of over-fitting, and do not work in most cases. - https://papers.nips.cc/paper/8689-understanding-and-improving-layer-normalization.pdf. You can remove these using `center`, `scale` parameters in `Tensorflow`. "
   ]
  },
  {
   "cell_type": "code",
   "execution_count": 6,
   "metadata": {},
   "outputs": [
    {
     "name": "stdout",
     "output_type": "stream",
     "text": [
      "Number of weights is 0\n"
     ]
    }
   ],
   "source": [
    "import tensorflow as tf\n",
    "input_layer = tf.keras.Input(shape=(6))\n",
    "norm_layer = tf.keras.layers.LayerNormalization(scale=False, center=False)\n",
    "norm_layer_out = norm_layer(input_layer)\n",
    "print('Number of weights is', len(norm_layer.get_weights()))"
   ]
  },
  {
   "cell_type": "markdown",
   "metadata": {},
   "source": [
    ">Note: If there is no gain and bias, number of weights is zero. "
   ]
  },
  {
   "cell_type": "code",
   "execution_count": 13,
   "metadata": {},
   "outputs": [
    {
     "name": "stdout",
     "output_type": "stream",
     "text": [
      "Number of weights is 2\n"
     ]
    }
   ],
   "source": [
    "import tensorflow as tf\n",
    "input_layer = tf.keras.Input(shape=(10,),batch_size=1)\n",
    "norm_layer = tf.keras.layers.LayerNormalization(scale=True, center=True)\n",
    "norm_layer_out = norm_layer(input_layer)\n",
    "print('Number of weights is', len(norm_layer.get_weights()))"
   ]
  }
 ],
 "metadata": {
  "kernelspec": {
   "display_name": "Python 3",
   "language": "python",
   "name": "python3"
  },
  "language_info": {
   "codemirror_mode": {
    "name": "ipython",
    "version": 3
   },
   "file_extension": ".py",
   "mimetype": "text/x-python",
   "name": "python",
   "nbconvert_exporter": "python",
   "pygments_lexer": "ipython3",
   "version": "3.7.7"
  }
 },
 "nbformat": 4,
 "nbformat_minor": 4
}
