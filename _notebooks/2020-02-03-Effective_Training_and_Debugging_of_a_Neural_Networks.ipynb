{
 "cells": [
  {
   "cell_type": "markdown",
   "metadata": {
    "colab_type": "text",
    "id": "2dFqacq1zFWQ"
   },
   "source": [
    "# Effective Training and Debugging of a Neural Networks\n",
    ">Proper training and debugging of a neural network\n",
    "- toc: true \n",
    "- badges: true\n",
    "- comments: true\n",
    "- image:https://media.geeksforgeeks.org/wp-content/uploads/20190902105053/Debugging-Tips-To-Get-Better-At-It.png\n",
    "- author: Uday Paila\n",
    "- categories: [Debugging NN, Neural Network, overfit, underfit, ]"
   ]
  },
  {
   "cell_type": "markdown",
   "metadata": {
    "colab_type": "text",
    "id": "3gDmx6E3zFWX"
   },
   "source": [
    "In this blog, I want to discuss Training and Debugging of a NN in a practical manner.\n",
    "\n",
    "I am taking a cyber troll dataset. It is a classification data with labels aggressive or not. This is mostly inspired from <a href=\"http://karpathy.github.io/2019/04/25/recipe/\">this</a> blog. \n",
    "    \n",
    "Whenever I train any neural network, I will divide that into subtasks as below. I am assuming, you already set your project goals and evaluation metrics.\n",
    "   \n",
    "1. If you don't have proper data, create/collect proper data.\n",
    "2. Data preprocessing, EDA and creating structured data.\n",
    "3. Writing a basic Model. \n",
    "4. Training and debugging with very small data. Try to overfit to the very small training data(we will get to know basic errors and rectify it). \n",
    "5. Writing a better data pipeline to train the NN with total data. \n",
    "6. Train the model with Total data and Tune the model parameters. (While training, we may face some issues and you have to rectify those)\n",
    "7. Compare the model with the SOTA/any other real-time systems and try to improve the model by changing the basic model or training a new model. so you have to go to step-3 again with a new model. \n",
    "8. Compare the results and do the error analysis. I personally feel, based on error analysis, we can improve the model so much. It is similar to the active learning concept. \n",
    "9. If you feel data is the issue, go to step-1 and check again.\n"
   ]
  },
  {
   "cell_type": "code",
   "execution_count": null,
   "metadata": {
    "colab": {},
    "colab_type": "code",
    "id": "AEbAqtDIzFWa"
   },
   "outputs": [],
   "source": [
    "##basic imports\n",
    "import numpy as np\n",
    "import pandas as pd\n",
    "import random as rn\n",
    "import tensorflow as tf\n",
    "from tensorflow.keras.layers import LSTM, GRU, Dense, Input, Embedding\n",
    "from tensorflow.keras.models import Model"
   ]
  },
  {
   "cell_type": "markdown",
   "metadata": {
    "colab_type": "text",
    "id": "CkQstXEUzFWn"
   },
   "source": [
    "## Data Processing"
   ]
  },
  {
   "cell_type": "code",
   "execution_count": null,
   "metadata": {
    "colab": {},
    "colab_type": "code",
    "id": "QUPtQ7mKzFWo",
    "outputId": "7348c17e-75aa-492f-dd99-ad42117fcaae"
   },
   "outputs": [
    {
     "data": {
      "text/html": [
       "<div>\n",
       "<style scoped>\n",
       "    .dataframe tbody tr th:only-of-type {\n",
       "        vertical-align: middle;\n",
       "    }\n",
       "\n",
       "    .dataframe tbody tr th {\n",
       "        vertical-align: top;\n",
       "    }\n",
       "\n",
       "    .dataframe thead th {\n",
       "        text-align: right;\n",
       "    }\n",
       "</style>\n",
       "<table border=\"1\" class=\"dataframe\">\n",
       "  <thead>\n",
       "    <tr style=\"text-align: right;\">\n",
       "      <th></th>\n",
       "      <th>content</th>\n",
       "      <th>annotation</th>\n",
       "      <th>extras</th>\n",
       "      <th>metadata</th>\n",
       "    </tr>\n",
       "  </thead>\n",
       "  <tbody>\n",
       "    <tr>\n",
       "      <th>0</th>\n",
       "      <td>Get fucking real dude.</td>\n",
       "      <td>{'notes': '', 'label': ['1']}</td>\n",
       "      <td>NaN</td>\n",
       "      <td>{'first_done_at': 1527503426000, 'last_updated...</td>\n",
       "    </tr>\n",
       "    <tr>\n",
       "      <th>1</th>\n",
       "      <td>She is as dirty as they come  and that crook R...</td>\n",
       "      <td>{'notes': '', 'label': ['1']}</td>\n",
       "      <td>NaN</td>\n",
       "      <td>{'first_done_at': 1527503426000, 'last_updated...</td>\n",
       "    </tr>\n",
       "  </tbody>\n",
       "</table>\n",
       "</div>"
      ],
      "text/plain": [
       "                                             content  \\\n",
       "0                             Get fucking real dude.   \n",
       "1  She is as dirty as they come  and that crook R...   \n",
       "\n",
       "                      annotation  extras  \\\n",
       "0  {'notes': '', 'label': ['1']}     NaN   \n",
       "1  {'notes': '', 'label': ['1']}     NaN   \n",
       "\n",
       "                                            metadata  \n",
       "0  {'first_done_at': 1527503426000, 'last_updated...  \n",
       "1  {'first_done_at': 1527503426000, 'last_updated...  "
      ]
     },
     "execution_count": 3,
     "metadata": {
      "tags": []
     },
     "output_type": "execute_result"
    }
   ],
   "source": [
    "##reading the data\n",
    "cyber_troll_data = pd.read_json('Dataset for Detection of Cyber-Trolls.json', lines=True)\n",
    "cyber_troll_data.head(2)"
   ]
  },
  {
   "cell_type": "code",
   "execution_count": null,
   "metadata": {
    "colab": {},
    "colab_type": "code",
    "id": "EdfwY0S-zFWy",
    "outputId": "831765da-9728-4083-ab75-fa883204eb48"
   },
   "outputs": [
    {
     "data": {
      "text/html": [
       "<div>\n",
       "<style scoped>\n",
       "    .dataframe tbody tr th:only-of-type {\n",
       "        vertical-align: middle;\n",
       "    }\n",
       "\n",
       "    .dataframe tbody tr th {\n",
       "        vertical-align: top;\n",
       "    }\n",
       "\n",
       "    .dataframe thead th {\n",
       "        text-align: right;\n",
       "    }\n",
       "</style>\n",
       "<table border=\"1\" class=\"dataframe\">\n",
       "  <thead>\n",
       "    <tr style=\"text-align: right;\">\n",
       "      <th></th>\n",
       "      <th>content</th>\n",
       "      <th>label</th>\n",
       "    </tr>\n",
       "  </thead>\n",
       "  <tbody>\n",
       "    <tr>\n",
       "      <th>0</th>\n",
       "      <td>Get fucking real dude.</td>\n",
       "      <td>1</td>\n",
       "    </tr>\n",
       "    <tr>\n",
       "      <th>1</th>\n",
       "      <td>She is as dirty as they come  and that crook R...</td>\n",
       "      <td>1</td>\n",
       "    </tr>\n",
       "    <tr>\n",
       "      <th>2</th>\n",
       "      <td>why did you fuck it up. I could do it all day ...</td>\n",
       "      <td>1</td>\n",
       "    </tr>\n",
       "    <tr>\n",
       "      <th>3</th>\n",
       "      <td>Dude they dont finish enclosing the fucking sh...</td>\n",
       "      <td>1</td>\n",
       "    </tr>\n",
       "    <tr>\n",
       "      <th>4</th>\n",
       "      <td>WTF are you talking about Men? No men thats no...</td>\n",
       "      <td>1</td>\n",
       "    </tr>\n",
       "  </tbody>\n",
       "</table>\n",
       "</div>"
      ],
      "text/plain": [
       "                                             content  label\n",
       "0                             Get fucking real dude.      1\n",
       "1  She is as dirty as they come  and that crook R...      1\n",
       "2  why did you fuck it up. I could do it all day ...      1\n",
       "3  Dude they dont finish enclosing the fucking sh...      1\n",
       "4  WTF are you talking about Men? No men thats no...      1"
      ]
     },
     "execution_count": 4,
     "metadata": {
      "tags": []
     },
     "output_type": "execute_result"
    }
   ],
   "source": [
    "#basic preprocessing\n",
    "cyber_troll_data['label']=cyber_troll_data.annotation.apply(lambda x: int(x['label'][0]))\n",
    "cyber_troll_data = cyber_troll_data[['content', 'label']]\n",
    "cyber_troll_data.head()"
   ]
  },
  {
   "cell_type": "code",
   "execution_count": null,
   "metadata": {
    "colab": {},
    "colab_type": "code",
    "id": "ASp4iNM_zFW4",
    "outputId": "b9b88ace-3d94-43a0-b463-b1767047767b"
   },
   "outputs": [
    {
     "data": {
      "text/plain": [
       "0    12179\n",
       "1     7822\n",
       "Name: label, dtype: int64"
      ]
     },
     "execution_count": 5,
     "metadata": {
      "tags": []
     },
     "output_type": "execute_result"
    }
   ],
   "source": [
    "#its a imbalance one\n",
    "cyber_troll_data.label.value_counts()"
   ]
  },
  {
   "cell_type": "code",
   "execution_count": null,
   "metadata": {
    "colab": {},
    "colab_type": "code",
    "id": "fOGtwS6IzFW-"
   },
   "outputs": [],
   "source": [
    "##splitting data into train, validation and Test data. \n",
    "from sklearn.model_selection import train_test_split\n",
    "X_train, X_test, y_train, y_test = train_test_split(cyber_troll_data.content, cyber_troll_data.label, \n",
    "                                                    test_size=0.40, stratify=cyber_troll_data.label, random_state=54)\n",
    "\n",
    "X_test, X_val, y_test, y_val = train_test_split(X_test, y_test, \n",
    "                                                    test_size=0.50, stratify=y_test, random_state=32)\n",
    "\n",
    "\n",
    "tokenizer = tf.keras.preprocessing.text.Tokenizer()\n",
    "tokenizer.fit_on_texts(X_train)\n",
    "\n",
    "\n",
    "X_train_tokens = tokenizer.texts_to_sequences(X_train)\n",
    "X_test_tokens = tokenizer.texts_to_sequences(X_test)\n",
    "X_val_tokens = tokenizer.texts_to_sequences(X_val)\n",
    "\n",
    "\n",
    "number_vocab = len(tokenizer.word_index)+1\n",
    "\n",
    "X_train_pad_tokens = tf.keras.preprocessing.sequence.pad_sequences(X_train_tokens, maxlen=24, padding='post', truncating='post')\n",
    "X_test_pad_tokens = tf.keras.preprocessing.sequence.pad_sequences(X_test_tokens, maxlen=24, padding='post', truncating='post')\n",
    "X_val_pad_tokens = tf.keras.preprocessing.sequence.pad_sequences(X_val_tokens, maxlen=24, padding='post', truncating='post')"
   ]
  },
  {
   "cell_type": "markdown",
   "metadata": {
    "colab_type": "text",
    "id": "KDvtnSDjzFXE"
   },
   "source": [
    "  "
   ]
  },
  {
   "cell_type": "markdown",
   "metadata": {
    "colab_type": "text",
    "id": "zoSCu98_zFXF"
   },
   "source": [
    "We prepared the data. I am not doing perfect preprocessing and tokenization. You can do preprocessing in a better way. \n",
    "\n",
    "We have,  \n",
    "`X_train_pad_tokens, y_train  --> To train  \n",
    "X_val_pad_tokens, y_val   --> To validate and Tune  \n",
    "X_test_pad_tokens, y_test  --> Don't use this data while trainig. Only use this after you are done with all the modelling.` "
   ]
  },
  {
   "cell_type": "markdown",
   "metadata": {},
   "source": [
    "  "
   ]
  },
  {
   "cell_type": "markdown",
   "metadata": {
    "colab_type": "text",
    "id": "oCrn5-HZzFXF"
   },
   "source": [
    "I am creating Training and Validation datasets to iterate over those using the tf.data pipeline. Please use less data as of now because, it will be easier to debug and easier to know about the error if we have any in our network, I will discuss this below. I am only using the first 100 data points with a batch size of 32. "
   ]
  },
  {
   "cell_type": "markdown",
   "metadata": {},
   "source": [
    "  "
   ]
  },
  {
   "cell_type": "code",
   "execution_count": null,
   "metadata": {
    "colab": {},
    "colab_type": "code",
    "id": "HsbWs_-vzFXG"
   },
   "outputs": [],
   "source": [
    "##Creating the dataset( only 100 data points and will explain why after trainig process.) \n",
    "train_dataset = tf.data.Dataset.from_tensor_slices((X_train_pad_tokens[0:100], y_train[0:100]))\n",
    "train_dataset = train_dataset.shuffle(1000).batch(32, drop_remainder=True)\n",
    "train_dataset = train_dataset.prefetch(buffer_size=tf.data.experimental.AUTOTUNE)\n",
    "\n",
    "##creating test dataset using tf.data\n",
    "val_dataset = tf.data.Dataset.from_tensor_slices((X_val_pad_tokens[0:100], y_val[0:100]))\n",
    "val_dataset = val_dataset.batch(32, drop_remainder=True)\n",
    "val_dataset = val_dataset.prefetch(buffer_size=tf.data.experimental.AUTOTUNE)"
   ]
  },
  {
   "cell_type": "markdown",
   "metadata": {},
   "source": [
    "  "
   ]
  },
  {
   "cell_type": "markdown",
   "metadata": {
    "colab_type": "text",
    "id": "iEqnqEPpzFXL"
   },
   "source": [
    "<br>\n",
    "\n",
    "Checking the data pairing issue and check the data given to neural network is correct or not. If it got corrupted, check/debug the data pipleline and rectify it. If you have images, try to plot the images and check.\n",
    "\n",
    "below, i have written a basic for loop to print. You can also print the words corresponding to the numbers and check. "
   ]
  },
  {
   "cell_type": "code",
   "execution_count": null,
   "metadata": {
    "colab": {},
    "colab_type": "code",
    "id": "WqC6nG4XzFXL",
    "outputId": "0b1ecb5a-a717-4a7f-8d9e-6fc43ec1f253"
   },
   "outputs": [
    {
     "name": "stdout",
     "output_type": "stream",
     "text": [
      "tf.Tensor(\n",
      "[[ 186   89  741    5  385   43   11  127  919 1082  157    1    9  251\n",
      "     5  628    3 6970    5   11 4641   30    6   40]\n",
      " [  27    3   26   28 1021   29    6    0    0    0    0    0    0    0\n",
      "     0    0    0    0    0    0    0    0    0    0]\n",
      " [4647   72  606   43   16  684  223    1    9    3 4648  923    0    0\n",
      "     0    0    0    0    0    0    0    0    0    0]], shape=(3, 24), dtype=int32) tf.Tensor([0 1 1], shape=(3,), dtype=int32)\n"
     ]
    }
   ],
   "source": [
    "for input_text, output_label in train_dataset:\n",
    "    print(input_text[0:3], output_label[0:3])\n",
    "    break"
   ]
  },
  {
   "cell_type": "markdown",
   "metadata": {
    "colab_type": "text",
    "id": "Ray4XQX4zFXP"
   },
   "source": [
    "## Creating a Neural Network\n",
    "Some of the rules to follow while writing/training your Neural Network. \n",
    "- Start with a simple architecture - We are doing a text classification so, we can try a single layer LSTM. \n",
    "- Use well studied default parameters like activation = relu, optimizer = adam, initialization = he for relu and Glorot for sigmoid/tanh. To know more about this, please read <a href=\"https://www.deeplearning.ai/ai-notes/initialization/\">this</a> blog.\n",
    "- Fix the random seeds so that we can reproduce the initializations/results to tune our models. - You have to fix all the random seeds in your model.\n",
    "- Normalize the input data. \n",
    "\n",
    "I am writing a simple LSTM model by following all the above rules.\n"
   ]
  },
  {
   "cell_type": "code",
   "execution_count": null,
   "metadata": {
    "colab": {},
    "colab_type": "code",
    "id": "nVlUxpalzFXQ"
   },
   "outputs": [],
   "source": [
    "##LSTM\n",
    "\n",
    "##fixing numpy RS\n",
    "np.random.seed(42)\n",
    "\n",
    "##fixing tensorflow RS\n",
    "tf.random.set_seed(32)\n",
    "\n",
    "##python RS\n",
    "rn.seed(12)\n",
    "\n",
    "\n",
    "##model\n",
    "def get_model():\n",
    "    input_layer = Input(shape=(24,), name=\"input_layer\")\n",
    "    ##i am initilizing randomly. But you can use predefined embeddings. \n",
    "    x_embedd = Embedding(input_dim=number_vocab, output_dim=100, input_length=24, mask_zero=True, \n",
    "                        embeddings_initializer=tf.keras.initializers.RandomNormal(mean=0, stddev=1, seed=23),\n",
    "                         name=\"Embedding_layer\")(input_layer)\n",
    "    \n",
    "    x_lstm = LSTM(units=20, activation='tanh', recurrent_activation='sigmoid', use_bias=True, \n",
    "                 kernel_initializer=tf.keras.initializers.glorot_uniform(seed=26),\n",
    "                 recurrent_initializer=tf.keras.initializers.orthogonal(seed=54),\n",
    "                 bias_initializer=tf.keras.initializers.zeros(), name=\"LSTM_layer\")(x_embedd)\n",
    "    \n",
    "    x_out = Dense(1, activation='sigmoid', kernel_initializer=tf.keras.initializers.glorot_uniform(seed=45),\n",
    "                  name=\"output_layer\")(x_lstm)\n",
    "    \n",
    "    basic_lstm_model = Model(inputs=input_layer, outputs=x_out, name=\"basic_lstm_model\")\n",
    "    \n",
    "    return basic_lstm_model\n",
    "\n",
    "\n",
    "basic_lstm_model = get_model()\n",
    "basic_lstm_model_anothertest = get_model()"
   ]
  },
  {
   "cell_type": "markdown",
   "metadata": {
    "colab_type": "text",
    "id": "WafLQTq0zFXT"
   },
   "source": [
    "\n"
   ]
  },
  {
   "cell_type": "markdown",
   "metadata": {
    "colab_type": "text",
    "id": "ZYxGdek5zFXU"
   },
   "source": [
    "<br>\n",
    "Now i created two models named `basic_lstm_model`, `basic_lstm_model_anothertest`. Those two model initial weights will be the same because of the fixed random seed. This removes a factor of a variation and very useful to tune parameters by doing some experimentation on the same weight initialization.\n",
    "\n",
    "we can check this as below."
   ]
  },
  {
   "cell_type": "code",
   "execution_count": null,
   "metadata": {
    "colab": {},
    "colab_type": "code",
    "id": "dCq1yazlzFXU",
    "outputId": "f6e39636-5459-4b50-9598-a3df14bf5fd7"
   },
   "outputs": [
    {
     "data": {
      "text/plain": [
       "[True, True, True, True, True, True]"
      ]
     },
     "execution_count": 8,
     "metadata": {
      "tags": []
     },
     "output_type": "execute_result"
    }
   ],
   "source": [
    "[np.all(basic_lstm_model.get_weights()[i]==basic_lstm_model_anothertest.get_weights()[i]) \\\n",
    " for i in range(len(basic_lstm_model.get_weights()))]"
   ]
  },
  {
   "cell_type": "markdown",
   "metadata": {
    "colab_type": "text",
    "id": "y0RYJYeazFXY"
   },
   "source": [
    "   "
   ]
  },
  {
   "cell_type": "markdown",
   "metadata": {
    "colab_type": "text",
    "id": "WAVHeMRRzFXa"
   },
   "source": [
    "## Training a NN\n",
    "\n",
    "`Loss functions` - If we calculate the loss in the wrong manner, we will get the wrong gradients and it doesn't learn perfectly.\n",
    "\n",
    "Some of the mistakes in Loss functions: \n",
    "\n",
    "- one of the main mistakes in the loss creation is giving `wrong inputs` to the loss function. If we are using the cross-entropy, you have to give one-hot vector as input otherwise, use sparse_categorical_crossentropy(no need to give the one-hot vectors). \n",
    "- If you are using a function that calculates the loss using unnormalized `logits`, don't give the probability output as input to the loss function. ( check logits parameter in the tensorflow loss functions)\n",
    "- It is useful to mask unnecessary output while calculating loss. Eg: don't include output at the padded word position while calculation loss. \n",
    "- Selecting a loss function that allowing the calculation of `large error` values. Because of this, your loss may explode, you may get NaN and it affects the gradients too.\n",
    "    "
   ]
  },
  {
   "cell_type": "code",
   "execution_count": null,
   "metadata": {
    "colab": {},
    "colab_type": "code",
    "id": "QMYAj8PLzFXa"
   },
   "outputs": [],
   "source": [
    "##masked loss Eg for sequence output. \n",
    "def maskedLoss(y_true, y_pred):\n",
    "    #getting mask value\n",
    "    mask = tf.math.logical_not(tf.math.equal(y_true, 0))\n",
    "    \n",
    "    #calculating the loss\n",
    "    loss_ = loss_function(y_true, y_pred)\n",
    "    \n",
    "    #converting mask dtype to loss_ dtype\n",
    "    mask = tf.cast(mask, dtype=loss_.dtype)\n",
    "    \n",
    "    #applying the mask to loss\n",
    "    loss_ = loss_*mask\n",
    "    \n",
    "    #getting mean over all the values\n",
    "    loss_ = tf.reduce_sum(loss_)/tf.reduce_sum(mask)\n",
    "    return loss_"
   ]
  },
  {
   "cell_type": "code",
   "execution_count": null,
   "metadata": {
    "colab": {},
    "colab_type": "code",
    "id": "I-7bBJ8ozFXe"
   },
   "outputs": [],
   "source": [
    "##creating a loss object for this classification problem\n",
    "loss_function = tf.keras.losses.BinaryCrossentropy(from_logits=False, reduction='auto')"
   ]
  },
  {
   "cell_type": "markdown",
   "metadata": {
    "colab_type": "text",
    "id": "as7dbLHqzFXh"
   },
   "source": [
    "  "
   ]
  },
  {
   "cell_type": "markdown",
   "metadata": {
    "colab_type": "text",
    "id": "qyOGRD2FzFXi"
   },
   "source": [
    "Training and validation functions\n",
    "\n",
    "- We have to take care of the toggling training flag because some of the layers behaves differently in training and testing."
   ]
  },
  {
   "cell_type": "code",
   "execution_count": null,
   "metadata": {
    "colab": {},
    "colab_type": "code",
    "id": "oiQSyo5bzFXj"
   },
   "outputs": [],
   "source": [
    "#optimizer\n",
    "optimizer = tf.keras.optimizers.Adam(learning_rate=0.001)\n",
    "\n",
    "#trainign function\n",
    "@tf.function\n",
    "def train_step(input_vector, output_vector,loss_fn):\n",
    "    #taping the gradients\n",
    "    with tf.GradientTape() as tape:\n",
    "        #for ward prop\n",
    "        output_predicted = basic_lstm_model(inputs=input_vector, training=True)\n",
    "        #loss calculation\n",
    "        loss = loss_fn(output_vector, output_predicted)\n",
    "    #getting gradients\n",
    "    gradients = tape.gradient(loss, basic_lstm_model.trainable_variables)\n",
    "    #applying gradients\n",
    "    optimizer.apply_gradients(zip(gradients, basic_lstm_model.trainable_variables))\n",
    "    return loss, output_predicted\n",
    "\n",
    "#validation function\n",
    "@tf.function\n",
    "def val_step(input_vector, output_vector, loss_fn):\n",
    "    #forward prop\n",
    "    output_predicted = basic_lstm_model(inputs=input_vector, training=False)\n",
    "    #loss calculation\n",
    "    loss = loss_fn(output_vector, output_predicted)\n",
    "    return loss, output_predicted"
   ]
  },
  {
   "cell_type": "markdown",
   "metadata": {
    "colab_type": "text",
    "id": "XFGAcFkFzFXt"
   },
   "source": [
    "Training the NN with proper data.\n",
    "\n",
    "    \n",
    "- While Training the model, I suggest you `don't write the complex pipelining` of the data and train your network at the start. If you do this, finding the bugs in your network is very difficult. Just get a few instances of data( maybe 10% of your total train data if you have 10K records) into your RAM and try to train your network. In this case, I have total data in my RAM so, I will slice a few batches and try to train the network.\n",
    "    \n",
    "\n",
    "- I will suggest you `don't include the data augmentation` as of now. It is useful for regularizing the model but try to avoid it at the start. Even if you do data augmentation, be careful about the labels. Eg: In the segmentation task, if you flip the image, you have to flip the label image as well. \n",
    "\n",
    "\n",
    "- Check for `casting issues`. Eg. If layer needs int8, give the int8 value only as input. If you have float values, just cast the dtype. If data stored in the disk is float32, load the data into RAM with the same dtype.  \n",
    "\n",
    "\n",
    "- Check the `data pairing issue` i.e. while giving the train data, you have to give the correct pairs of x and y. Training the NN with proper data.\n"
   ]
  },
  {
   "cell_type": "markdown",
   "metadata": {
    "colab_type": "text",
    "id": "p96jQWx7zFXv"
   },
   "source": [
    "   "
   ]
  },
  {
   "cell_type": "markdown",
   "metadata": {
    "colab_type": "text",
    "id": "clnaHbi7zFXw"
   },
   "source": [
    "Training the NN with data for 2 epochs and printing batchwise loss and finally getting mean of all those. Even if you use the .fit method of Keras API, it prints the aggregated value of loss/metric as part of verbose. You can check that aggregate class <a href=\"https://github.com/tensorflow/tensorflow/blob/e5bf8de410005de06a7ff5393fafdf832ef1d4ad/tensorflow/python/keras/engine/training_utils.py#L113\">here</a>"
   ]
  },
  {
   "cell_type": "code",
   "execution_count": null,
   "metadata": {
    "colab": {},
    "colab_type": "code",
    "id": "vtUMq4H4zFXy",
    "outputId": "e871f1fa-76c8-4865-b847-e3d33095b3cf"
   },
   "outputs": [
    {
     "name": "stdout",
     "output_type": "stream",
     "text": [
      "Batchwise Train loss\n",
      "tf.Tensor(0.69066906, shape=(), dtype=float32)\n",
      "tf.Tensor(0.6978342, shape=(), dtype=float32)\n",
      "tf.Tensor(0.7214557, shape=(), dtype=float32)\n",
      "Batchwise Val loss\n",
      "tf.Tensor(0.7479876, shape=(), dtype=float32)\n",
      "tf.Tensor(0.6868224, shape=(), dtype=float32)\n",
      "tf.Tensor(0.71952724, shape=(), dtype=float32)\n",
      "Epoch 1, Mean Loss: 0.7033197283744812, Mean Val Loss: 0.7181124687194824\n",
      "--------------------------------------------------\n",
      "Batchwise Train loss\n",
      "tf.Tensor(0.6816538, shape=(), dtype=float32)\n",
      "tf.Tensor(0.69258916, shape=(), dtype=float32)\n",
      "tf.Tensor(0.6689039, shape=(), dtype=float32)\n",
      "Batchwise Val loss\n",
      "tf.Tensor(0.744266, shape=(), dtype=float32)\n",
      "tf.Tensor(0.681653, shape=(), dtype=float32)\n",
      "tf.Tensor(0.71762204, shape=(), dtype=float32)\n",
      "Epoch 2, Mean Loss: 0.6810489296913147, Mean Val Loss: 0.7145137190818787\n",
      "--------------------------------------------------\n"
     ]
    }
   ],
   "source": [
    "##training\n",
    "EPOCHS=2\n",
    "\n",
    "##metrics # Even if you use .fit method, it alsocalculates batchwise loss/metric and aggregates those.  \n",
    "train_loss = tf.keras.metrics.Mean(name='train_loss')\n",
    "val_loss = tf.keras.metrics.Mean(name='test_loss')\n",
    "\n",
    "for epoch in range(EPOCHS):\n",
    "    #losses\n",
    "    train_loss.reset_states()\n",
    "    val_loss.reset_states()\n",
    "    \n",
    "    #training\n",
    "    print('Batchwise Train loss')\n",
    "    for text_seq, label_seq in train_dataset:\n",
    "        loss_, pred_out = train_step(text_seq, label_seq, loss_function)\n",
    "        print(loss_)\n",
    "        train_loss(loss_)\n",
    "    \n",
    "    #validation\n",
    "    print('Batchwise Val loss')\n",
    "    for text_seq_val, label_seq_val in val_dataset:\n",
    "        loss_test, pred_out_test = val_step(text_seq_val, label_seq_val, loss_function)\n",
    "        print(loss_test)\n",
    "        val_loss(loss_test)\n",
    "    \n",
    "    template = 'Epoch {}, Mean Loss: {}, Mean Val Loss: {}'\n",
    "    \n",
    "    print(template.format(epoch+1, train_loss.result(), val_loss.result()))\n",
    "    print('-'*50)"
   ]
  },
  {
   "cell_type": "markdown",
   "metadata": {
    "colab_type": "text",
    "id": "DEyz63XAzFX6"
   },
   "source": [
    "  "
   ]
  },
  {
   "cell_type": "markdown",
   "metadata": {
    "colab_type": "text",
    "id": "fp2R-q5fzFX8"
   },
   "source": [
    "## Debugging and Enhancing NN\n",
    "\n",
    "Till now, we have created a basic NN for our problem and trained the NN. Now I will discuss some hacks to debug and enhance your training process to get better results. \n",
    "\n",
    "- Using Basic print statements and checking the shapes of input and output of every layer. Using this, we can remove the `shape related error` or basic errors related to output while creating a model. If you want to print in tensorflow code, please use tf.print\n",
    "\n",
    "\n",
    "- With Eager execution, we can debug our code very easily. it can be done using `pdb` or using any ide. You have to set `tf.config.experimental_run_functions_eagerly(True)` to debug your tf2.0 functions."
   ]
  },
  {
   "cell_type": "code",
   "execution_count": null,
   "metadata": {
    "colab": {},
    "colab_type": "code",
    "id": "s8GaJ_lSzFX9",
    "outputId": "cc6c972f-2c5d-4b4b-8392-572ef1ee3778"
   },
   "outputs": [
    {
     "name": "stdout",
     "output_type": "stream",
     "text": [
      "> <ipython-input-14-476c66b41633>(31)get_model_debug()\n",
      "-> x_out_d = Dense(1, activation='sigmoid', kernel_initializer=tf.keras.initializers.glorot_uniform(seed=45),\n"
     ]
    },
    {
     "name": "stdin",
     "output_type": "stream",
     "text": [
      "(Pdb)  locals()\n"
     ]
    },
    {
     "name": "stdout",
     "output_type": "stream",
     "text": [
      "{'input_layer_d': <tf.Tensor 'input_layer_2:0' shape=(None, 24) dtype=float32>, 'x_embedd_d': <tf.Tensor 'Embedding_layer_2/Identity:0' shape=(None, 24, 100) dtype=float32>, 'x_lstm_d': <tf.Tensor 'LSTM_layer_2/Identity:0' shape=(None, 20) dtype=float32>}\n"
     ]
    },
    {
     "name": "stdin",
     "output_type": "stream",
     "text": [
      "(Pdb)  n\n"
     ]
    },
    {
     "name": "stdout",
     "output_type": "stream",
     "text": [
      "> <ipython-input-14-476c66b41633>(32)get_model_debug()\n",
      "-> name=\"output_layer\")(x_lstm_d)\n"
     ]
    },
    {
     "name": "stdin",
     "output_type": "stream",
     "text": [
      "(Pdb)  n\n"
     ]
    },
    {
     "name": "stdout",
     "output_type": "stream",
     "text": [
      "> <ipython-input-14-476c66b41633>(34)get_model_debug()\n",
      "-> basic_lstm_model_d = Model(inputs=input_layer_d, outputs=x_out_d, name=\"basic_lstm_model_d\")\n"
     ]
    },
    {
     "name": "stdin",
     "output_type": "stream",
     "text": [
      "(Pdb)  c\n"
     ]
    }
   ],
   "source": [
    "##LSTM\n",
    "\n",
    "tf.config.experimental_run_functions_eagerly(True)\n",
    "\n",
    "##fixing numpy RS\n",
    "np.random.seed(42)\n",
    "\n",
    "##fixing tensorflow RS\n",
    "tf.random.set_seed(32)\n",
    "\n",
    "##python RS\n",
    "rn.seed(12)\n",
    "\n",
    "import pdb\n",
    "\n",
    "##model\n",
    "def get_model_debug():\n",
    "    input_layer_d = Input(shape=(24,), name=\"input_layer\")\n",
    "    ##i am initilizing randomly. But you can use predefined embeddings. \n",
    "    x_embedd_d= Embedding(input_dim=number_vocab, output_dim=100, input_length=24, mask_zero=True, \n",
    "                        embeddings_initializer=tf.keras.initializers.RandomNormal(mean=0, stddev=1, seed=23),\n",
    "                         name=\"Embedding_layer\")(input_layer_d)\n",
    "    \n",
    "    #LSTM\n",
    "    x_lstm_d = LSTM(units=20, activation='tanh', recurrent_activation='sigmoid', use_bias=True, \n",
    "                 kernel_initializer=tf.keras.initializers.glorot_uniform(seed=26),\n",
    "                 recurrent_initializer=tf.keras.initializers.orthogonal(seed=54),\n",
    "                 bias_initializer=tf.keras.initializers.zeros(), name=\"LSTM_layer\")(x_embedd_d)\n",
    "    \n",
    "    #trace\n",
    "    pdb.set_trace()\n",
    "    \n",
    "    x_out_d = Dense(1, activation='sigmoid', kernel_initializer=tf.keras.initializers.glorot_uniform(seed=45),\n",
    "                  name=\"output_layer\")(x_lstm_d)\n",
    "    \n",
    "    basic_lstm_model_d = Model(inputs=input_layer_d, outputs=x_out_d, name=\"basic_lstm_model_d\")\n",
    "    \n",
    "    return basic_lstm_model_d\n",
    "\n",
    "\n",
    "basic_model_debug = get_model_debug()\n",
    "\n",
    "tf.config.experimental_run_functions_eagerly(False)"
   ]
  },
  {
   "cell_type": "markdown",
   "metadata": {
    "colab_type": "text",
    "id": "wEy_wPgZzFYF"
   },
   "source": [
    " "
   ]
  },
  {
   "cell_type": "markdown",
   "metadata": {
    "colab_type": "text",
    "id": "7yfMkIp3zFYG"
   },
   "source": [
    "You can also Debug the Trainig loopas shown below.  \n",
    "For PDB instrctions, please check <a href=\"https://web.stanford.edu/class/physics91si/2013/handouts/Pdb_Commands.pdf\">this</a> PDF.   \n",
    "\n",
    "<b>My preference and suggestion is to use IDE Debugger</b>"
   ]
  },
  {
   "cell_type": "code",
   "execution_count": null,
   "metadata": {
    "colab": {},
    "colab_type": "code",
    "id": "kgMWQ3NuzFYH",
    "outputId": "10339c86-c872-4fc5-bb06-8b6e12447be7"
   },
   "outputs": [
    {
     "name": "stdout",
     "output_type": "stream",
     "text": [
      "Batchwise Train loss\n",
      "> <ipython-input-15-aa3750dbfb83>(13)<module>()\n",
      "-> loss_, pred_out = train_step(text_seq, label_seq, loss_function)\n"
     ]
    },
    {
     "name": "stdin",
     "output_type": "stream",
     "text": [
      "(Pdb)  s\n"
     ]
    },
    {
     "name": "stdout",
     "output_type": "stream",
     "text": [
      "--Call--\n",
      "> d:\\softwares\\anaconda3\\envs\\tf2\\lib\\site-packages\\tensorflow_core\\python\\eager\\def_function.py(551)__call__()\n",
      "-> def __call__(self, *args, **kwds):\n"
     ]
    },
    {
     "name": "stdin",
     "output_type": "stream",
     "text": [
      "(Pdb)  c\n"
     ]
    },
    {
     "name": "stdout",
     "output_type": "stream",
     "text": [
      "tf.Tensor(0.66431165, shape=(), dtype=float32)\n",
      "> <ipython-input-15-aa3750dbfb83>(12)<module>()\n",
      "-> pdb.set_trace()\n"
     ]
    },
    {
     "name": "stdin",
     "output_type": "stream",
     "text": [
      "(Pdb)  c\n"
     ]
    },
    {
     "name": "stdout",
     "output_type": "stream",
     "text": [
      "tf.Tensor(0.6668887, shape=(), dtype=float32)\n",
      "> <ipython-input-15-aa3750dbfb83>(13)<module>()\n",
      "-> loss_, pred_out = train_step(text_seq, label_seq, loss_function)\n"
     ]
    },
    {
     "name": "stdin",
     "output_type": "stream",
     "text": [
      "(Pdb)  c\n"
     ]
    },
    {
     "name": "stdout",
     "output_type": "stream",
     "text": [
      "tf.Tensor(0.6523603, shape=(), dtype=float32)\n",
      "Epoch 1, Mean Loss: 0.6611868739128113\n",
      "--------------------------------------------------\n"
     ]
    }
   ],
   "source": [
    "##training\n",
    "EPOCHS=1\n",
    "##metrics # Even if you use .fit method, it alsocalculates batchwise loss/metric and aggregates those.  \n",
    "train_loss = tf.keras.metrics.Mean(name='train_loss')\n",
    "\n",
    "tf.config.experimental_run_functions_eagerly(True)\n",
    "for epoch in range(EPOCHS):\n",
    "    train_loss.reset_states()\n",
    "    \n",
    "    print('Batchwise Train loss')\n",
    "    for text_seq, label_seq in train_dataset:\n",
    "        pdb.set_trace()\n",
    "        loss_, pred_out = train_step(text_seq, label_seq, loss_function)\n",
    "        print(loss_)\n",
    "        train_loss(loss_)\n",
    "    \n",
    "    template = 'Epoch {}, Mean Loss: {}'\n",
    "    \n",
    "    print(template.format(epoch+1, train_loss.result()))\n",
    "    print('-'*50)\n",
    "tf.config.experimental_run_functions_eagerly(False)"
   ]
  },
  {
   "cell_type": "markdown",
   "metadata": {
    "colab_type": "text",
    "id": "ppV3qmeczFYO"
   },
   "source": [
    "  "
   ]
  },
  {
   "cell_type": "markdown",
   "metadata": {
    "colab_type": "text",
    "id": "FJy4Y15kzFYP"
   },
   "source": [
    " - Once you are done with the creation of the model, Try to Train the model with `less data`( i have taken 100 samples) and try to `overfit` the model to that data. To do so we increase the capacity of our model (e.g. add layers or filters) and verify that we can reach the lowest achievable loss (e.g. zero). If your model is unable to overfit a few data points, then either it's too small (which is unlikely in today's age), or something is wrong in its structure or the learning algorithm. check for bugs and try to remove those. I will discuss some of the bugs below. If this model is working fine without any bugs, you can train with full data. \n",
    "\n",
    "- `Tensorboard` is another important tool to debug NN while training. You can `visualize` the Loss, metrics, gradient/output histograms, distributions, graph and many more. I am writing code to plot all these in the tensorboard.\n",
    "\n",
    "- As of now, we are printing/plotting the `Mean` loss/metric for all the batches in one epoch and, based on this we are analyzing the model performance. This may lead to wrong models for some of the loss functions/metrics. Even if you use the smoothing, it is not an accurate one, it will get an exponentially weighted average over batch-wise loss/metric. so Try to get a loss/metric for entire data of train and Val/test. If you have time/space constraint, at least get for the val/test data. Eg: Mean of Cross entropy over batches is equal to the cross-entropy over total data but not for AUC/F1 score. \n",
    "    \n",
    "    Below I have written code that calculates loss and metric(AUC) over batches and gets the mean as well as a total loss at once and a better Training and validation functions with tensorboard. please look into it. \n",
    "    "
   ]
  },
  {
   "cell_type": "code",
   "execution_count": null,
   "metadata": {
    "colab": {},
    "colab_type": "code",
    "id": "zgWh83JbzFYQ",
    "outputId": "02ff5031-4165-4c9a-e910-c793cc8ba9b2"
   },
   "outputs": [
    {
     "name": "stdout",
     "output_type": "stream",
     "text": [
      "Epoch 1, Train Loss: 0.700775, Mean batch Train Loss: 0.700775, AUC: 0.46829, Mean batch Train AUC: 0.45378,\n",
      "    Val Loss: 0.704532, Mean batch Val Loss: 0.704532, Val AUC: 0.48223, Mean batch Val AUC: 0.48844\n",
      "------------------------------\n",
      "Epoch 2, Train Loss: 0.596350, Mean batch Train Loss: 0.596350, AUC: 0.86608, Mean batch Train AUC: 0.86355,\n",
      "    Val Loss: 0.691127, Mean batch Val Loss: 0.691127, Val AUC: 0.52128, Mean batch Val AUC: 0.53295\n",
      "------------------------------\n",
      "Epoch 3, Train Loss: 0.508518, Mean batch Train Loss: 0.508518, AUC: 0.98973, Mean batch Train AUC: 0.98923,\n",
      "    Val Loss: 0.681388, Mean batch Val Loss: 0.681388, Val AUC: 0.55682, Mean batch Val AUC: 0.57112\n",
      "------------------------------\n",
      "Epoch 4, Train Loss: 0.441114, Mean batch Train Loss: 0.441114, AUC: 0.99554, Mean batch Train AUC: 0.99460,\n",
      "    Val Loss: 0.673574, Mean batch Val Loss: 0.673574, Val AUC: 0.58578, Mean batch Val AUC: 0.60539\n",
      "------------------------------\n",
      "Epoch 5, Train Loss: 0.368985, Mean batch Train Loss: 0.368985, AUC: 0.99868, Mean batch Train AUC: 0.99861,\n",
      "    Val Loss: 0.667929, Mean batch Val Loss: 0.667929, Val AUC: 0.61167, Mean batch Val AUC: 0.62760\n",
      "------------------------------\n",
      "Epoch 6, Train Loss: 0.306646, Mean batch Train Loss: 0.306646, AUC: 0.99956, Mean batch Train AUC: 1.00000,\n",
      "    Val Loss: 0.664882, Mean batch Val Loss: 0.664882, Val AUC: 0.62835, Mean batch Val AUC: 0.63807\n",
      "------------------------------\n",
      "Epoch 7, Train Loss: 0.249700, Mean batch Train Loss: 0.249700, AUC: 1.00000, Mean batch Train AUC: 1.00000,\n",
      "    Val Loss: 0.666024, Mean batch Val Loss: 0.666024, Val AUC: 0.63756, Mean batch Val AUC: 0.64217\n",
      "------------------------------\n",
      "Epoch 8, Train Loss: 0.195906, Mean batch Train Loss: 0.195906, AUC: 1.00000, Mean batch Train AUC: 1.00000,\n",
      "    Val Loss: 0.671024, Mean batch Val Loss: 0.671024, Val AUC: 0.64063, Mean batch Val AUC: 0.64618\n",
      "------------------------------\n",
      "Epoch 9, Train Loss: 0.151549, Mean batch Train Loss: 0.151549, AUC: 1.00000, Mean batch Train AUC: 1.00000,\n",
      "    Val Loss: 0.679804, Mean batch Val Loss: 0.679804, Val AUC: 0.64458, Mean batch Val AUC: 0.64464\n",
      "------------------------------\n",
      "Epoch 10, Train Loss: 0.111988, Mean batch Train Loss: 0.111988, AUC: 1.00000, Mean batch Train AUC: 1.00000,\n",
      "    Val Loss: 0.695000, Mean batch Val Loss: 0.695000, Val AUC: 0.64283, Mean batch Val AUC: 0.64751\n",
      "------------------------------\n"
     ]
    }
   ],
   "source": [
    "##training\n",
    "\n",
    "##model creation\n",
    "basic_lstm_model = get_model()\n",
    "\n",
    "##optimizer\n",
    "optimizer = tf.keras.optimizers.Adam(learning_rate=0.005)\n",
    "\n",
    "##metric\n",
    "from sklearn.metrics import roc_auc_score\n",
    "\n",
    "##train step function to train\n",
    "@tf.function\n",
    "def train_step(input_vector, output_vector,loss_fn):\n",
    "    with tf.GradientTape() as tape:\n",
    "        #forward propagation\n",
    "        output_predicted = basic_lstm_model(inputs=input_vector, training=True)\n",
    "        #loss\n",
    "        loss = loss_fn(output_vector, output_predicted)\n",
    "    #getting gradients\n",
    "    gradients = tape.gradient(loss, basic_lstm_model.trainable_variables)\n",
    "    #applying gradients\n",
    "    optimizer.apply_gradients(zip(gradients, basic_lstm_model.trainable_variables))\n",
    "    return loss, output_predicted, gradients\n",
    "\n",
    "##validation step function\n",
    "@tf.function\n",
    "def val_step(input_vector, output_vector, loss_fn):\n",
    "    #getting output of validation data\n",
    "    output_predicted = basic_lstm_model(inputs=input_vector, training=False)\n",
    "    #loss calculation\n",
    "    loss = loss_fn(output_vector, output_predicted)\n",
    "    return loss, output_predicted\n",
    "\n",
    "import math\n",
    "\n",
    "#batch size\n",
    "BATCH_SIZE=32\n",
    "##number of epochs\n",
    "EPOCHS=10\n",
    "\n",
    "##metrics # Even if you use .fit method, it alsocalculates batchwise loss/metric and aggregates those.  \n",
    "train_loss = tf.keras.metrics.Mean(name='train_loss')\n",
    "val_loss = tf.keras.metrics.Mean(name='val_loss')\n",
    "train_metric = tf.keras.metrics.Mean(name=\"train_auc\")\n",
    "val_metric = tf.keras.metrics.Mean(name=\"val_metric\")\n",
    "\n",
    "#tensorboard file writers\n",
    "wtrain = tf.summary.create_file_writer(logdir='logs\\\\train')\n",
    "wval = tf.summary.create_file_writer(logdir='logs\\\\val')\n",
    "\n",
    "\n",
    "#no of data points/batch_size i.e number of iterations in the one epoch\n",
    "iters = math.ceil(100/BATCH_SIZE) \n",
    "\n",
    "#training anf validating\n",
    "for epoch in range(EPOCHS):\n",
    "    \n",
    "    #resetting the states of the loss and metrics\n",
    "    train_loss.reset_states()\n",
    "    val_loss.reset_states()\n",
    "    train_metric.reset_states()\n",
    "    val_metric.reset_states()\n",
    "    \n",
    "    ##counter for train loop iteration\n",
    "    counter = 0\n",
    "    \n",
    "    #lists to save true and validation data. \n",
    "    train_true = []\n",
    "    train_predicted = []\n",
    "    val_true = []\n",
    "    val_predicted = []\n",
    "    \n",
    "    #ietrating over train data batch by batch\n",
    "    for text_seq, label_seq in train_dataset:\n",
    "        #train step\n",
    "        loss_, pred_out, gradients = train_step(text_seq, label_seq, loss_function)\n",
    "        #adding loss to train loss\n",
    "        train_loss(loss_)\n",
    "        #counting the step number\n",
    "        temp_step = epoch*iters+counter\n",
    "        counter = counter + 1\n",
    "        \n",
    "        #calculating AUC for batch\n",
    "        batch_metric = roc_auc_score(label_seq, pred_out)\n",
    "        train_metric(batch_metric)\n",
    "        \n",
    "        #appending it to list\n",
    "        train_predicted.append(pred_out)\n",
    "        train_true.append(label_seq)\n",
    "        \n",
    "        ##tensorboard \n",
    "        with tf.name_scope('per_step_training'):\n",
    "            with wtrain.as_default():\n",
    "                tf.summary.scalar(\"batch_loss\", loss_, step=temp_step)\n",
    "                tf.summary.scalar('batch_metric', batch_metric, step=temp_step)\n",
    "        with tf.name_scope(\"per_batch_gradients\"):\n",
    "            with wtrain.as_default():\n",
    "                for i in range(len(basic_lstm_model.trainable_variables)):\n",
    "                    name_temp = basic_lstm_model.trainable_variables[i].name\n",
    "                    tf.summary.histogram(name_temp, gradients[i], step=temp_step)\n",
    "    \n",
    "    #calculating the final loss and metric\n",
    "    train_true = tf.concat(train_true, axis=0)\n",
    "    train_predicted = tf.concat(train_predicted, axis=0)\n",
    "    train_loss_final = loss_function(train_true, train_predicted)\n",
    "    train_metric_auc = roc_auc_score(train_true, train_predicted)\n",
    "    \n",
    "    #validation data\n",
    "    for text_seq_val, label_seq_val in val_dataset:\n",
    "        #getting val output\n",
    "        loss_val, pred_out_val = val_step(text_seq_val, label_seq_val, loss_function)\n",
    "        #appending to lists\n",
    "        val_true.append(label_seq_val)\n",
    "        val_predicted.append(pred_out_val)\n",
    "        val_loss(loss_val)\n",
    "        \n",
    "        #calculating metric\n",
    "        batch_metric_val = roc_auc_score(label_seq_val, pred_out_val)\n",
    "        val_metric(batch_metric_val)\n",
    "    \n",
    "    \n",
    "    #calculating final loss and metric   \n",
    "    val_true = tf.concat(val_true, axis=0)\n",
    "    val_predicted = tf.concat(val_predicted, axis=0)\n",
    "    val_loss_final = loss_function(val_true, val_predicted)\n",
    "    val_metric_auc = roc_auc_score(val_true, val_predicted)\n",
    "    \n",
    "    #printing\n",
    "    template = '''Epoch {}, Train Loss: {:0.6f}, Mean batch Train Loss: {:0.6f}, AUC: {:0.5f}, Mean batch Train AUC: {:0.5f},\n",
    "    Val Loss: {:0.6f}, Mean batch Val Loss: {:0.6f}, Val AUC: {:0.5f}, Mean batch Val AUC: {:0.5f}'''\n",
    "    \n",
    "    print(template.format(epoch+1, train_loss_final.numpy(), train_loss.result(), \n",
    "                          train_metric_auc, train_metric.result(), val_loss_final.numpy(),\n",
    "                          val_loss.result(), val_metric_auc, val_metric.result()))\n",
    "    print('-'*30)\n",
    "    \n",
    "    #tensorboard\n",
    "    with tf.name_scope(\"per_epoch_loss_metric\"):\n",
    "        with wtrain.as_default():\n",
    "            tf.summary.scalar(\"mean_loss\", train_loss.result().numpy(), step=epoch)\n",
    "            tf.summary.scalar('loss', train_loss_final.numpy(), step=epoch)\n",
    "            tf.summary.scalar('metric', train_metric_auc, step=epoch)\n",
    "            tf.summary.scalar('mean_metric', train_metric.result().numpy(), step=epoch)\n",
    "        with wval.as_default():\n",
    "            tf.summary.scalar('mean_loss', val_loss.result().numpy(), step=epoch)\n",
    "            tf.summary.scalar('loss', val_loss_final.numpy(), step=epoch)\n",
    "            tf.summary.scalar('metric', val_metric_auc, step=epoch)\n",
    "            tf.summary.scalar('mean_metric', val_metric.result().numpy(), step=epoch)"
   ]
  },
  {
   "cell_type": "markdown",
   "metadata": {
    "colab_type": "text",
    "id": "kmdrHM7wzFYV"
   },
   "source": [
    "  "
   ]
  },
  {
   "cell_type": "markdown",
   "metadata": {
    "colab_type": "text",
    "id": "odIsgly9zFYW"
   },
   "source": [
    "I trained the model for 10 epochs and my loss is decreasing and AUC of train data became 1(overfit). But some times it may not overfit to the model. If it is not overfitting, there may be so many reasons like code written to create the model is incorrect, the model is not capable of learning the data, learning problems like vanishing or exploding gradients and many more. I will discuss these problems below and These problems may occur even while training with total data. \n",
    "\n",
    "    \n",
    "    \n",
    "### Check whether forward propagation is correct or not\n",
    "while training NN, we will use the vectorizing implementations of data manipulation. If we did any mistake in these implementations, our training process will give bad results. We can verify this with a simple hack using `back prop dependency`. Below are the steps to do.\n",
    "- Take a few data points. Here I am taking 5 data points. You can get it from the data or you can generate random data with the same shape. \n",
    "- do forward propagation on the model we created with the above batch data. \n",
    "- write a loss function that takes the true values, predicted values and returns loss as sum of the i^th data point output where i less than 5. I am using 3.\n",
    "- do the back prop and check the gradients with respect to the input data points. If you are getting non zero gradients only for i-th data point, your forward propagation is right otherwise, there is some error in the forward propagation and you have to debug the code to check the error. \n",
    "    \n",
    "In the implementation below, I have written basic implementation, not included any tensorboard/metrics and there is no need for those as well. \n",
    "\n",
    ">Note: Gradient won't flow through the embedding layer so you will get None gradients if you calculate the gradient with of loss with respect to the input. If you have the embedding layer at starting, please remove the embedding layer and give the input directly to the next layer. It is very easy to do because This layer can only be used as the first layer in a model. "
   ]
  },
  {
   "cell_type": "code",
   "execution_count": null,
   "metadata": {
    "colab": {},
    "colab_type": "code",
    "id": "m1bamYbHzFYX",
    "outputId": "ced77cfc-9e25-4809-d21c-7fee03be5df0"
   },
   "outputs": [
    {
     "name": "stdout",
     "output_type": "stream",
     "text": [
      "True\n",
      "True\n",
      "False\n",
      "True\n",
      "True\n"
     ]
    }
   ],
   "source": [
    "##same model with name changes and without emedding layer.\n",
    "def get_model_check():\n",
    "    ##directly using embedding dimention of 1. It is only for checking so no problem with it. \n",
    "    input_layer = Input(shape=(24, 1), batch_size=10, name=\"input_layer_debug\")\n",
    "    \n",
    "    ##i am initilizing randomly. But you can use predefined embeddings. \n",
    "    #x_embedd = Embedding(input_dim=13732, output_dim=100, input_length=24, mask_zero=True, \n",
    "                        #embeddings_initializer=tf.keras.initializers.RandomNormal(mean=0, stddev=1, seed=23),\n",
    "                         #name=\"Embedding_layer\")(input_layer)\n",
    "    \n",
    "    x_lstm = LSTM(units=20, activation='tanh', recurrent_activation='sigmoid', use_bias=True, \n",
    "                 kernel_initializer=tf.keras.initializers.glorot_uniform(seed=26),\n",
    "                 recurrent_initializer=tf.keras.initializers.orthogonal(seed=54),\n",
    "                 bias_initializer=tf.keras.initializers.zeros(), name=\"LSTM_layer_debug\")(input_layer)\n",
    "    \n",
    "    x_out = Dense(1, activation='sigmoid', kernel_initializer=tf.keras.initializers.glorot_uniform(seed=45),\n",
    "                  name=\"output_layer_debug\")(x_lstm)\n",
    "    \n",
    "    basic_model_debug = Model(inputs=input_layer, outputs=x_out, name=\"basic_lstm_model_debug\")\n",
    "    \n",
    "    return basic_model_debug\n",
    "\n",
    "basic_model_debug = get_model_check()\n",
    "\n",
    "##generated random 5 data points of shape (24,1) i.e 4 time steps and 1 dim embedding. \n",
    "temp_features = np.random.randint(low=1, high=5, size=(5,24, 1))\n",
    "\n",
    "##generated the a random output zero or 1. I think, there is no use for this as well because \n",
    "#we will calculate loss only with predicted values\n",
    "temp_outs = np.random.randint(0, 2, size=(5,1))\n",
    "\n",
    "def loss_to_ckgrads(y_true, y_pred):\n",
    "    #y_pred is one dimentional you can give directly one data point prediction as loss. \n",
    "    #I am giving loss as 3rd data point prediction so we will get non zero gradients only for 3rd data point. \n",
    "    #if your prediction is sequence, please add all the i-th data point predictions and return those. \n",
    "    return y_pred[2]\n",
    "\n",
    "def get_gradient(model, x_tensor):\n",
    "    #taping the gradients\n",
    "    with tf.GradientTape() as tape:\n",
    "        #explicitly telling to watch for input vector. it won't watch with repect to any inputs by default.\n",
    "        #it only watches the gradents with weight vectors\n",
    "        tape.watch(x_tensor)\n",
    "        #model predictions\n",
    "        preds = model(x_tensor)\n",
    "        #getting the loss\n",
    "        loss = loss_to_ckgrads(temp_outs, preds)\n",
    "    #getting the gradients    \n",
    "    grads = tape.gradient(loss, x_tensor)\n",
    "    return grads\n",
    "##making temp_feature as varible. We can get the gradients only if it is a varible so chnaging it to variable\n",
    "temp_features = tf.Variable(tf.convert_to_tensor(temp_features, dtype=tf.float32))\n",
    "##\n",
    "grads = get_gradient(basic_model_debug, temp_features)\n",
    "for i in grads:\n",
    "    #checking whether all zeros or not\n",
    "    #except 3rd all the grdients should be zero i.e True\n",
    "    print(all(i==0))"
   ]
  },
  {
   "cell_type": "markdown",
   "metadata": {
    "colab_type": "text",
    "id": "ojHQGI3gzFYc"
   },
   "source": [
    "<font size=3 face=\"Calibri\">\n",
    "If you are not getting all true except the i-th one, you may have any issue in your code. You have to check that and resolve it. Without that, don't go to another step. "
   ]
  },
  {
   "cell_type": "markdown",
   "metadata": {
    "colab_type": "text",
    "id": "dcyjGPFJzFYc"
   },
   "source": [
    "  "
   ]
  },
  {
   "cell_type": "markdown",
   "metadata": {
    "colab_type": "text",
    "id": "K4jtyvSZzFYd"
   },
   "source": [
    "\n",
    "\n",
    "### What to do when Loss Explodes\n",
    "while training NN, you may get NaN/inf loss becuase of large or small values. Below are some causes\n",
    "- Numerical stability issues.\n",
    "    - Check the multiplications, if you are multiplying so many tensors at once, apply log and make it to addition.\n",
    "    - Check for the division operation. any zero division is happening or not. Try to add a small constant like 1e-12 to the denominator. \n",
    "    - Check the softmax function. If your vocab size if very large, try not to use the softmax function. calculate the loss based on the logits. \n",
    "- If the updates to the weights are very large, you may get numerical instability and it may explode. \n",
    "    - Check for the Learning rate. If the learning rate is high, you may get this problem as well.\n",
    "    - Check for the exploding gradient problem. In tensorboard, you can visualize the gradient histograms and you can check the problem. If gradients are exploding, try to clip the gradients. You can apply `tf.linalg.normalize` or `tf.clip_by_value` to your gradients after getting gradients from the GradientTape.\n",
    "- It may occur because of a poor choice of loss function i.e. allowing the calculation of large error values. \n",
    "- It may occur because of the poor data preparation i.e. allowing large differences in the target variables."
   ]
  },
  {
   "cell_type": "markdown",
   "metadata": {
    "colab_type": "text",
    "id": "uvrsvpEgzFYe"
   },
   "source": [
    "  "
   ]
  },
  {
   "cell_type": "markdown",
   "metadata": {
    "colab_type": "text",
    "id": "lMn9TiIVzFYf"
   },
   "source": [
    "### What to do when loss Increases\n",
    "while training NN, our loss may increase some times. Below are some causes \n",
    "- Check for the Learning rate. If the learning rate is high, you may get this problem as well.\n",
    "- Check for the wrong loss function. Especially sign of the loss function.\n",
    "- Activation functions applying over wrong dimensions. (you can find this out using the point number 1(checking forward propagation is correct or not)"
   ]
  },
  {
   "cell_type": "markdown",
   "metadata": {
    "colab_type": "text",
    "id": "qNE0uOu2zFYg"
   },
   "source": [
    "  "
   ]
  },
  {
   "cell_type": "markdown",
   "metadata": {
    "colab_type": "text",
    "id": "R5O20-pOzFYh"
   },
   "source": [
    "### What to do when loss Oscillate\n",
    "while training NN, our loss may oscillate. Below are some causes \n",
    "- Check for the Learning rate. If the learning rate is high, you may get this problem as well.\n",
    "- Sometimes it may occur because of the exploding gradient problem. so check for that one as well. You can check this using the `Tensorboard`. \n",
    "- It may occur due to data pairing issues/data corruption. We already discussed this. so make sure to get the proper data. "
   ]
  },
  {
   "cell_type": "markdown",
   "metadata": {
    "colab_type": "text",
    "id": "ZHVmAAUJzFYi"
   },
   "source": [
    "  "
   ]
  },
  {
   "cell_type": "markdown",
   "metadata": {
    "colab_type": "text",
    "id": "n39HohDezFYj"
   },
   "source": [
    "### What to do when loss is constant\n",
    "while training NN, our loss constant. Below are some causes \n",
    "- If the updates to the weights are very low, you may end up in the same position.\n",
    "    - Check for the learning rate. If the learning rate is low, our weights won't update much so you may get this problem. \n",
    "    - Check for Vanishing Gradient problem. In `Tensorboard`, you can visualize the gradient histograms and you can check the problem. \n",
    "        - You can solve this by changing the activations to relu/leaky relu.\n",
    "        - You can add skip connections to an easier flow of gradients. \n",
    "        - If you have long sequences in RNN, you can divide into smaller ones and train with stateful LSTM's(Truncated Back prop)\n",
    "        - Better weight initialization may reduce this.\n",
    "- Too much regularization may also cause this. \n",
    "- If you are using Relu activation, it may occur due to the dead neurons. \n",
    "- Incorrect inputs to the loss function. I already discussed this while discussing the loss functions. "
   ]
  },
  {
   "cell_type": "markdown",
   "metadata": {
    "colab_type": "text",
    "id": "1Tnh5JylzFYk"
   },
   "source": [
    "  "
   ]
  },
  {
   "cell_type": "markdown",
   "metadata": {
    "colab_type": "text",
    "id": "mdwG_c2czFYk"
   },
   "source": [
    "### What if we get memory Errors\n",
    "while training NN, many people face the memory exhaust errors because of the computing constraints.  \n",
    "- If you are getting GPU memory exhaust error, try to reduce the batch size and train the neural network. \n",
    "- If your data doesn't fit into the RAM you have, Try to create a data pipeline using `tf.data` or `Keras/Python Data Generators` and load the batchwise data. My personal choice is to use `tf.data` pipelines. Please check <a href=\"https://www.tensorflow.org/guide/data\">this</a> blog to know more about it. \n",
    "- Please try to check for the duplicate operations like creating multiple models, storing temporary variables in the GPU memory."
   ]
  },
  {
   "cell_type": "markdown",
   "metadata": {
    "colab_type": "text",
    "id": "3V61oXxGzFYm"
   },
   "source": [
    "    "
   ]
  },
  {
   "cell_type": "markdown",
   "metadata": {
    "colab_type": "text",
    "id": "VHadXFQGzFYp"
   },
   "source": [
    "### What if we Underfit to the data\n",
    "some suggestions to make in decreasing order of priority  \n",
    "- Make your model bigger \n",
    "- Reduce/Remove regularization(L1/L2/Dropout) if any. \n",
    "- Do error analysis. based on this try to change the preprocessing/data if needed.\n",
    "- Read technical papers and choose the state of the art models.\n",
    "- Tune hyperparameters\n",
    "- Add custom features if needed. "
   ]
  },
  {
   "cell_type": "markdown",
   "metadata": {
    "colab_type": "text",
    "id": "DY68qzblzFYq"
   },
   "source": [
    "  "
   ]
  },
  {
   "cell_type": "markdown",
   "metadata": {
    "colab_type": "text",
    "id": "DrG0haPFzFYr"
   },
   "source": [
    "### What if we Overfit to the data\n",
    "some suggestions to make in decreasing order of priority  \n",
    "- Add more training data\n",
    "- Add normalization layers(BN, layer norm) \n",
    "- Add data augmentation\n",
    "- Increase regularization\n",
    "- Do error analysis. based on this try to change the preprocessing/data if needed.\n",
    "- Choose a different model\n",
    "- Tune hyperparameters"
   ]
  },
  {
   "cell_type": "markdown",
   "metadata": {
    "colab_type": "text",
    "id": "guomTAK5zFYr"
   },
   "source": [
    "<font size=3 face=\"Calibri\">\n",
    "You can check some of my other blogs at <a href=\"https://udibhaskar.github.io/ml_blog/\">this</a> link. This is my <a href=\"https://www.linkedin.com/in/uday-paila-1a496a84/\">LinkedIn</a> and <a href=\"https://github.com/UdiBhaskar\">GitHub</a>"
   ]
  },
  {
   "cell_type": "code",
   "execution_count": null,
   "metadata": {
    "colab": {},
    "colab_type": "code",
    "id": "-a195XMYzFYt"
   },
   "outputs": [],
   "source": []
  }
 ],
 "metadata": {
  "colab": {
   "collapsed_sections": [],
   "name": "Effective Training and Debugging of a Neural Networks.ipynb",
   "provenance": []
  },
  "kernelspec": {
   "display_name": "Python 3",
   "language": "python",
   "name": "python3"
  },
  "language_info": {
   "codemirror_mode": {
    "name": "ipython",
    "version": 3
   },
   "file_extension": ".py",
   "mimetype": "text/x-python",
   "name": "python",
   "nbconvert_exporter": "python",
   "pygments_lexer": "ipython3",
   "version": "3.7.7"
  }
 },
 "nbformat": 4,
 "nbformat_minor": 1
}
