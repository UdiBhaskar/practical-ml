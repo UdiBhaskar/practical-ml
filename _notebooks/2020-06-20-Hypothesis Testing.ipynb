{
 "cells": [
  {
   "cell_type": "markdown",
   "metadata": {},
   "source": [
    "# Hypothesis Testing:\n",
    ">Hypothesis testing using permutation\n",
    "\n",
    "- toc: true \n",
    "- badges: true\n",
    "- comments: true\n",
    "- image:https://www.advanceinnovationgroup.com/blog/uploads/images/image_750x_5cc1653c3c4c9.jpg\n",
    "- author: Uday Paila\n",
    "- categories: [Hypothesis testing, null hypothesis, 2-sample test, one-sample-test, p-value, anova]"
   ]
  },
  {
   "cell_type": "markdown",
   "metadata": {},
   "source": [
    "## Framework\n",
    "1. We start with a null hypothesis (H0) that represents the currect state ( Nothing going on, =, <=, >=)\n",
    "2. We also have an alternative hypothesis(HA) that represents the research question we are testing. ( something is hoing on, !=, >, <)\n",
    "3. We conduct a hypothesis test under the assumption that null hypothesis is true, either via simulation(Permutation test) or theoretical test using CLT.\n",
    "    1. Choose a test statistic\n",
    "    2. Compute the test statistic.\n",
    "    3. Determine the frequency distribution of the test statistic under the hypothesis.\n",
    "    4. Make a decision using this distribution as a guide as discussed in the point-4.\n",
    "4. If the test results suggest that the data do not provide convincing evidence for the alternative hypothesis, we stick with the null hypothesis. If they do, then we reject the null hypothesis in the favor of the alternate hypothesis. If P value is low (Lower than significance level), we say that it is unlikely to observe the data if the null hypotheis were true, and hence reject the null hypothesis. If it is High, we won't reject the null hypothesis.                   \n",
    "5. Always construct hypotheses about population parameters (e.g. population mean, μ) and not the sample statistics (e.g. sample mean)  \n",
    "6. Note that the alternative hypothesis might be one-sided (μ < or > the null value) or two-sided (μ≠ the null value), and the choice depends on the research question.\n",
    "\n",
    "<br>\n",
    "\n",
    ">Important: P Value is the probability of obtaining a value of your test statistic that is at least as extream as what ws observed, under the assumption the null hypothesis is true. It is not the probability that the null hypothesis is True.\n",
    "\n",
    "\n",
    "<br>\n",
    "\n",
    "\n",
    ">Note: P Value = Conditional probability of data given null hypothesis is true = P(observed or more extreme sample statistic ∣ H0 true)\n",
    "\n",
    "\n",
    "\n",
    "\n",
    "### Steps \n",
    "1. Analyze the problem and state the Null Hypothesis\n",
    "2. State the Alternate Hypothesis\n",
    "3. Choose a test statistic and Compute the test statistic\n",
    "4. Determine the frequency distribution of the test statistic under the hypothesis.\n",
    "5. Calculate the P-Value for your CL based on two tail/single tail. \n",
    "6. Make a decision. \n",
    "\n",
    "<br>\n",
    "\n",
    "You can do one tailed or two tailed test based on the alternate hypothesis. \n",
    " - A two sided Hypothesis with significance level alpha is equivalent to a confidence interval with $CL = 1 - \\alpha$\n",
    " - A one sided Hypothesis with significance level alpha is equivalent to a confidence interval with $CL = 1- (2*\\alpha)$\n",
    "\n",
    "!['hypothesis cl'](https://miro.medium.com/max/862/1*VXxdieFiYCgR6v7nUaq01g.jpeg \"Credit:https://towardsdatascience.com/everything-you-need-to-know-about-hypothesis-testing-part-i-4de9abebbc8a\")"
   ]
  },
  {
   "cell_type": "code",
   "execution_count": 50,
   "metadata": {},
   "outputs": [],
   "source": [
    "import numpy as np\n",
    "import pandas as pd\n",
    "import seaborn as sns\n",
    "import matplotlib.pyplot as plt\n",
    "from matplotlib import rcParams\n",
    "# figure size in inches\n",
    "rcParams['figure.figsize'] = 11.7,8.27"
   ]
  },
  {
   "cell_type": "code",
   "execution_count": 37,
   "metadata": {},
   "outputs": [],
   "source": [
    "#you can download the data from https://www.kaggle.com/spscientist/students-performance-in-exams\n",
    "sample_data = pd.read_csv(\"datasets_74977_169835_StudentsPerformance.csv\")"
   ]
  },
  {
   "cell_type": "code",
   "execution_count": 44,
   "metadata": {},
   "outputs": [
    {
     "data": {
      "text/html": [
       "<div>\n",
       "<style scoped>\n",
       "    .dataframe tbody tr th:only-of-type {\n",
       "        vertical-align: middle;\n",
       "    }\n",
       "\n",
       "    .dataframe tbody tr th {\n",
       "        vertical-align: top;\n",
       "    }\n",
       "\n",
       "    .dataframe thead th {\n",
       "        text-align: right;\n",
       "    }\n",
       "</style>\n",
       "<table border=\"1\" class=\"dataframe\">\n",
       "  <thead>\n",
       "    <tr style=\"text-align: right;\">\n",
       "      <th></th>\n",
       "      <th>gender</th>\n",
       "      <th>race/ethnicity</th>\n",
       "      <th>parental level of education</th>\n",
       "      <th>lunch</th>\n",
       "      <th>test preparation course</th>\n",
       "      <th>math score</th>\n",
       "      <th>reading score</th>\n",
       "      <th>writing score</th>\n",
       "    </tr>\n",
       "  </thead>\n",
       "  <tbody>\n",
       "    <tr>\n",
       "      <th>0</th>\n",
       "      <td>female</td>\n",
       "      <td>group B</td>\n",
       "      <td>bachelor's degree</td>\n",
       "      <td>standard</td>\n",
       "      <td>none</td>\n",
       "      <td>72</td>\n",
       "      <td>72</td>\n",
       "      <td>74</td>\n",
       "    </tr>\n",
       "    <tr>\n",
       "      <th>1</th>\n",
       "      <td>female</td>\n",
       "      <td>group C</td>\n",
       "      <td>some college</td>\n",
       "      <td>standard</td>\n",
       "      <td>completed</td>\n",
       "      <td>69</td>\n",
       "      <td>90</td>\n",
       "      <td>88</td>\n",
       "    </tr>\n",
       "    <tr>\n",
       "      <th>2</th>\n",
       "      <td>female</td>\n",
       "      <td>group B</td>\n",
       "      <td>master's degree</td>\n",
       "      <td>standard</td>\n",
       "      <td>none</td>\n",
       "      <td>90</td>\n",
       "      <td>95</td>\n",
       "      <td>93</td>\n",
       "    </tr>\n",
       "    <tr>\n",
       "      <th>3</th>\n",
       "      <td>male</td>\n",
       "      <td>group A</td>\n",
       "      <td>associate's degree</td>\n",
       "      <td>free/reduced</td>\n",
       "      <td>none</td>\n",
       "      <td>47</td>\n",
       "      <td>57</td>\n",
       "      <td>44</td>\n",
       "    </tr>\n",
       "    <tr>\n",
       "      <th>4</th>\n",
       "      <td>male</td>\n",
       "      <td>group C</td>\n",
       "      <td>some college</td>\n",
       "      <td>standard</td>\n",
       "      <td>none</td>\n",
       "      <td>76</td>\n",
       "      <td>78</td>\n",
       "      <td>75</td>\n",
       "    </tr>\n",
       "  </tbody>\n",
       "</table>\n",
       "</div>"
      ],
      "text/plain": [
       "   gender race/ethnicity parental level of education         lunch  \\\n",
       "0  female        group B           bachelor's degree      standard   \n",
       "1  female        group C                some college      standard   \n",
       "2  female        group B             master's degree      standard   \n",
       "3    male        group A          associate's degree  free/reduced   \n",
       "4    male        group C                some college      standard   \n",
       "\n",
       "  test preparation course  math score  reading score  writing score  \n",
       "0                    none          72             72             74  \n",
       "1               completed          69             90             88  \n",
       "2                    none          90             95             93  \n",
       "3                    none          47             57             44  \n",
       "4                    none          76             78             75  "
      ]
     },
     "execution_count": 44,
     "metadata": {},
     "output_type": "execute_result"
    }
   ],
   "source": [
    "##sample data \n",
    "sample_data.head()"
   ]
  },
  {
   "cell_type": "code",
   "execution_count": 40,
   "metadata": {},
   "outputs": [
    {
     "data": {
      "text/plain": [
       "some college          226\n",
       "associate's degree    222\n",
       "high school           196\n",
       "some high school      179\n",
       "bachelor's degree     118\n",
       "master's degree        59\n",
       "Name: parental level of education, dtype: int64"
      ]
     },
     "execution_count": 40,
     "metadata": {},
     "output_type": "execute_result"
    }
   ],
   "source": [
    "##value counts of educatioin level\n",
    "sample_data['parental level of education'].value_counts()"
   ]
  },
  {
   "cell_type": "code",
   "execution_count": 43,
   "metadata": {},
   "outputs": [
    {
     "data": {
      "text/plain": [
       "none         642\n",
       "completed    358\n",
       "Name: test preparation course, dtype: int64"
      ]
     },
     "execution_count": 43,
     "metadata": {},
     "output_type": "execute_result"
    }
   ],
   "source": [
    "#test preparation \n",
    "sample_data['test preparation course'].value_counts()"
   ]
  },
  {
   "cell_type": "markdown",
   "metadata": {},
   "source": [
    "## Comparing two independent samples\n",
    "1. 2 groups must be independent with-in groups as well as between the groups. \n",
    "2. If we have skewness in the sample distribution, we need more samples for hypothesis testing. \n",
    "\n",
    "#### Problem Statement\n",
    "We have to check whether there is a difference in the math score in students who completed the preparation course and not."
   ]
  },
  {
   "cell_type": "code",
   "execution_count": 45,
   "metadata": {},
   "outputs": [],
   "source": [
    "###math scores of test completed and not completed\n",
    "math_score_with_test = sample_data['math score'][sample_data['test preparation course']=='completed']\n",
    "math_score_wo_test = sample_data['math score'][sample_data['test preparation course']=='none']"
   ]
  },
  {
   "cell_type": "code",
   "execution_count": 48,
   "metadata": {},
   "outputs": [
    {
     "name": "stdout",
     "output_type": "stream",
     "text": [
      "No of students completed the course 358\n",
      "No of students not completed the course 642\n"
     ]
    }
   ],
   "source": [
    "##no of students\n",
    "print(\"No of students completed the course\", len(math_score_with_test))\n",
    "print(\"No of students not completed the course\", len(math_score_wo_test))"
   ]
  },
  {
   "cell_type": "code",
   "execution_count": 54,
   "metadata": {},
   "outputs": [
    {
     "data": {
      "text/plain": [
       "<matplotlib.legend.Legend at 0x1b38d698148>"
      ]
     },
     "execution_count": 54,
     "metadata": {},
     "output_type": "execute_result"
    },
    {
     "data": {
      "image/png": "[encoded data removed]",
      "text/plain": [
       "<Figure size 842.4x595.44 with 1 Axes>"
      ]
     },
     "metadata": {
      "needs_background": "light"
     },
     "output_type": "display_data"
    }
   ],
   "source": [
    "#Plotting distribution of mathscores of compeleted students\n",
    "sns.distplot(math_score_with_test, hist=True, kde=True, color='red', norm_hist=True, label=\"Completed the course\")\n",
    "plt.legend()"
   ]
  },
  {
   "cell_type": "code",
   "execution_count": 53,
   "metadata": {},
   "outputs": [
    {
     "data": {
      "text/plain": [
       "<matplotlib.legend.Legend at 0x1b38d5bffc8>"
      ]
     },
     "execution_count": 53,
     "metadata": {},
     "output_type": "execute_result"
    },
    {
     "data": {
      "image/png": "[encoded data removed]",
      "text/plain": [
       "<Figure size 842.4x595.44 with 1 Axes>"
      ]
     },
     "metadata": {
      "needs_background": "light"
     },
     "output_type": "display_data"
    }
   ],
   "source": [
    "#Plotting distribution of mathscores of not compeleted students\n",
    "sns.distplot(math_score_wo_test, hist=True, kde=True, color='red', norm_hist=True, label=\"not completed the course\")\n",
    "plt.legend()"
   ]
  },
  {
   "cell_type": "markdown",
   "metadata": {},
   "source": [
    "Step-1: We can compare the mean scores of both groups. so Null Hypothesis is \"There is no difference in both groups\"  \n",
    "H0 = There is no difference between the two groups.  \n",
    "                    mu_group1 = mu_group2  \n",
    "                    mu_group1 - mu_group2 = 0  \n",
    "\n",
    "<br>\n",
    "\n",
    "Step-2: Alternate Hypothesis is \"There is a difference between the two groups\"  \n",
    "                H0 = There is no difference between the two groups.   \n",
    "                    mu_group1 != mu_group2  \n",
    "                    mu_group1 - mu_group2 != 0  \n",
    "\n",
    "<br>\n",
    "\n",
    "Step-3: Test Statistic and Calculate the Observed Test Statistic  \n",
    "                T_obs = observed_group1_mean - observed_group2_mean = 5.617649106319291  "
   ]
  },
  {
   "cell_type": "code",
   "execution_count": 62,
   "metadata": {},
   "outputs": [
    {
     "data": {
      "text/plain": [
       "5.617649106319291"
      ]
     },
     "execution_count": 62,
     "metadata": {},
     "output_type": "execute_result"
    }
   ],
   "source": [
    "T_obs = math_score_with_test.mean() - math_score_wo_test.mean()\n",
    "T_obs"
   ]
  },
  {
   "cell_type": "markdown",
   "metadata": {},
   "source": [
    "Step-4: Simulate the distribution using the permutation test  \n",
    "#### Permutation simulation \n",
    "Let's say we have n1 elements in group1 and n2 elements in the group2. \n",
    "1. Combine the group1, group2. \n",
    "2. for each permutation data sample\n",
    "    1. take first n1 elements as group1, rest n2 samples as group2. \n",
    "    2. calculate the test statistic"
   ]
  },
  {
   "cell_type": "markdown",
   "metadata": {},
   "source": [
    "#### Code"
   ]
  },
  {
   "cell_type": "code",
   "execution_count": 67,
   "metadata": {},
   "outputs": [
    {
     "name": "stdout",
     "output_type": "stream",
     "text": [
      "[3 2 4 1 5]\n",
      "[4 3 5 1 2]\n",
      "[5 1 3 4 2]\n",
      "[4 2 3 1 5]\n",
      "[3 2 5 1 4]\n"
     ]
    }
   ],
   "source": [
    "##we can get the permutations from np.random.permutations. \n",
    "for i in range(5):\n",
    "    print(np.random.permutation([1, 2, 3, 4, 5]))"
   ]
  },
  {
   "cell_type": "code",
   "execution_count": 102,
   "metadata": {},
   "outputs": [],
   "source": [
    "data_sample = np.concatenate([math_score_with_test, math_score_wo_test])\n",
    "n1 = len(math_score_with_test)\n",
    "dist_test_stat = []\n",
    "np.random.seed(85)\n",
    "for i in range(1000000):\n",
    "    out = np.random.permutation(data_sample) ##random permutation\n",
    "    ts_cal = out[:n1].mean() - out[n1:].mean() ##getting stat difference\n",
    "    dist_test_stat.append(ts_cal)"
   ]
  },
  {
   "cell_type": "code",
   "execution_count": 103,
   "metadata": {},
   "outputs": [
    {
     "data": {
      "text/plain": [
       "<matplotlib.legend.Legend at 0x1b38b559cc8>"
      ]
     },
     "execution_count": 103,
     "metadata": {},
     "output_type": "execute_result"
    },
    {
     "data": {
      "image/png": "[encoded data removed]",
      "text/plain": [
       "<Figure size 842.4x595.44 with 1 Axes>"
      ]
     },
     "metadata": {
      "needs_background": "light"
     },
     "output_type": "display_data"
    }
   ],
   "source": [
    "sns.distplot(dist_test_stat, hist=True, kde=True, color='red', norm_hist=True, label=\"Test Statistic distribution\")\n",
    "plt.legend()"
   ]
  },
  {
   "cell_type": "code",
   "execution_count": 195,
   "metadata": {},
   "outputs": [],
   "source": [
    "prob = sum(np.array(dist_test_stat)>=T_obs)/1000000"
   ]
  },
  {
   "cell_type": "code",
   "execution_count": 110,
   "metadata": {},
   "outputs": [
    {
     "data": {
      "text/plain": [
       "1e-06"
      ]
     },
     "execution_count": 110,
     "metadata": {},
     "output_type": "execute_result"
    }
   ],
   "source": [
    "prob"
   ]
  },
  {
   "cell_type": "markdown",
   "metadata": {},
   "source": [
    "Step-5: Calculation the P-Value\n",
    "\n",
    "For two tailed test $\\text{P Value} = 2*min([0.5, prob, 1-prob])$\n",
    "\n",
    "one tailed test with 'greater than' alternate hypothesis  $\\text{P Value} = prob$\n",
    "\n",
    "one tailed test with 'less than' alternate hypothesis  $\\text{P Value} = 1- (prob)$\n"
   ]
  },
  {
   "cell_type": "code",
   "execution_count": 112,
   "metadata": {},
   "outputs": [
    {
     "name": "stdout",
     "output_type": "stream",
     "text": [
      "P_value 2e-06\n"
     ]
    }
   ],
   "source": [
    "P_value = 2*np.min([0.5, prob, 1-prob])\n",
    "print('P_value', P_value)"
   ]
  },
  {
   "cell_type": "markdown",
   "metadata": {},
   "source": [
    "Step-6: Make a Decision:\n",
    "\n",
    "For Significance Level of 5% (95% CL), P_value is very less so we reject the null hypothisis in favour of alternate. \n"
   ]
  },
  {
   "cell_type": "markdown",
   "metadata": {},
   "source": [
    "   "
   ]
  },
  {
   "cell_type": "markdown",
   "metadata": {},
   "source": [
    ">Note: In place of Test Statistic, you can use any formulation even t test stat also."
   ]
  },
  {
   "cell_type": "markdown",
   "metadata": {},
   "source": [
    "You can do all the avove with permute module of Python. "
   ]
  },
  {
   "cell_type": "markdown",
   "metadata": {},
   "source": [
    "#### Code with permute module"
   ]
  },
  {
   "cell_type": "code",
   "execution_count": 128,
   "metadata": {},
   "outputs": [],
   "source": [
    "from permute.core import two_sample\n",
    "sample_test = two_sample(x=math_score_with_test, y=math_score_wo_test, reps=100000, \n",
    "                         stat='mean', alternative='two-sided', keep_dist=True, seed=10)"
   ]
  },
  {
   "cell_type": "code",
   "execution_count": 161,
   "metadata": {},
   "outputs": [
    {
     "data": {
      "text/plain": [
       "<matplotlib.legend.Legend at 0x1b38f7aa648>"
      ]
     },
     "execution_count": 161,
     "metadata": {},
     "output_type": "execute_result"
    },
    {
     "data": {
      "image/png": "[encoded data removed]",
      "text/plain": [
       "<Figure size 842.4x595.44 with 1 Axes>"
      ]
     },
     "metadata": {
      "needs_background": "light"
     },
     "output_type": "display_data"
    }
   ],
   "source": [
    "sns.distplot(sample_test[2], hist=True, kde=True, color='red', norm_hist=True, label=\"Test Statistic distribution\")\n",
    "plt.legend()"
   ]
  },
  {
   "cell_type": "code",
   "execution_count": 162,
   "metadata": {},
   "outputs": [
    {
     "name": "stdout",
     "output_type": "stream",
     "text": [
      "observed test Statistic 5.617649106319291\n",
      "P-Value 1.999980000199998e-05\n"
     ]
    }
   ],
   "source": [
    "print(\"observed test Statistic\", sample_test[1])\n",
    "print(\"P-Value\", sample_test[0])"
   ]
  },
  {
   "cell_type": "markdown",
   "metadata": {},
   "source": [
    "#### Another way to test\n",
    "1. Get the CI of the mean(any stat) of two samples. \n",
    "2. If those CI not overlap, there is a difference between those. "
   ]
  },
  {
   "cell_type": "code",
   "execution_count": 167,
   "metadata": {},
   "outputs": [
    {
     "name": "stdout",
     "output_type": "stream",
     "text": [
      "Studentized-t CI of scores of test completed students--> [[68.34468215]\n",
      " [71.1424581 ]]\n"
     ]
    }
   ],
   "source": [
    "from arch.bootstrap import IIDBootstrap\n",
    "bs = IIDBootstrap(math_score_with_test)\n",
    "print('Studentized-t CI of scores of test completed students-->', bs.conf_int(func=np.mean, reps=1000, method='bca', size=0.95))"
   ]
  },
  {
   "cell_type": "code",
   "execution_count": 168,
   "metadata": {},
   "outputs": [
    {
     "name": "stdout",
     "output_type": "stream",
     "text": [
      "Studentized-t CI of scores of test not completed students--> [[62.91883691]\n",
      " [65.28373942]]\n"
     ]
    }
   ],
   "source": [
    "bs = IIDBootstrap(math_score_wo_test)\n",
    "print('Studentized-t CI of scores of test not completed students-->', bs.conf_int(func=np.mean, reps=1000, method='bca', size=0.95))"
   ]
  },
  {
   "cell_type": "markdown",
   "metadata": {},
   "source": [
    "There is no overlap between these 95% CI, so there is a difference. "
   ]
  },
  {
   "cell_type": "markdown",
   "metadata": {},
   "source": [
    ">Tip: What if we want to check mu_group1 - mu_group2 = some_number?  We can formulate that as  mu_group1 - mu_group2 - some_number = 0 => mu_group1 - (mu_group2 + some_number) = 0 or (mu_group1 - some_number) - mu_group2 = 0                  "
   ]
  },
  {
   "attachments": {},
   "cell_type": "markdown",
   "metadata": {},
   "source": [
    "## Comparing two dependent samples(Paired Test):\n",
    "This type of test may be needed for pre-post study on the same people or repeated measures on the same set of people. \n",
    "In our sample data, let's say we want to compare scores of reading and writing that are equal or not. \n",
    "- In the above problem, students are same in the both samples. so there is a dependency, they are not independent. \n",
    "- Two groups must be of same size because its a paired data.(n1=n2=n)\n",
    "\n",
    "<br>\n",
    "\n",
    "How to solve? \n",
    "\n",
    "1. Get the difference(any value that you want to find) of two samples, so we will get n samples. \n",
    "2. Do 1 sample hypothesis test to find the difference is zero or not. or use bootstrapping to get the CI and check. \n",
    "\n",
    "<br>\n",
    "\n",
    "#### One-sample Hypothesis test using permutation\n",
    "We have to check whether our mean(any stat) is centered around the zero or not. We don't have two samples to permute so we can add random positive and negative signs and we can shuffle those signs to get the hypothesis null distribution. "
   ]
  },
  {
   "cell_type": "code",
   "execution_count": 216,
   "metadata": {},
   "outputs": [],
   "source": [
    "reading_score = sample_data['reading score']\n",
    "writing_score = sample_data['writing score']\n",
    "diff_score = reading_score - writing_score"
   ]
  },
  {
   "cell_type": "markdown",
   "metadata": {},
   "source": [
    "Step-1: Null Hypothesis is \"difference of both scores is zero\"  \n",
    "                H0 = the difference between both scores is zero.   \n",
    "                      mean_diff_score = 0  \n",
    "\n",
    "<br>\n",
    "\n",
    "Step-2: Alternate Hypothesis is \"There is a difference in both scores\"  \n",
    "                H0 = There is a difference in both scores.   \n",
    "                      mean_diff_score != 0  \n",
    "                      \n",
    "<br>\n",
    "\n",
    "Step-3: Test Statistic and Calculate the Observed Test Statistic  \n",
    "                T_obs = mean(diff_score)  "
   ]
  },
  {
   "cell_type": "code",
   "execution_count": 217,
   "metadata": {},
   "outputs": [
    {
     "name": "stdout",
     "output_type": "stream",
     "text": [
      "1.115\n"
     ]
    }
   ],
   "source": [
    "T_obs = diff_score.mean()\n",
    "print(T_obs)"
   ]
  },
  {
   "cell_type": "markdown",
   "metadata": {},
   "source": [
    "Step-4: Simulate the distribution using the permutation test\n",
    "\n",
    "#### one sample Permutation simulation: \n",
    "Let's say we have n elements. \n",
    "1. for M number of iterations\n",
    "    1. Generate random negative and positive signs of length n. \n",
    "    2. assign those signs to the elements\n",
    "    3. calculate the statistic value. "
   ]
  },
  {
   "cell_type": "markdown",
   "metadata": {},
   "source": [
    "#### Code"
   ]
  },
  {
   "cell_type": "code",
   "execution_count": 219,
   "metadata": {},
   "outputs": [
    {
     "data": {
      "text/plain": [
       "array([ 9,  9,  4,  4, -4, -4,  9,  3, -3,  1])"
      ]
     },
     "execution_count": 219,
     "metadata": {},
     "output_type": "execute_result"
    }
   ],
   "source": [
    "def generate_n_random_signs(n):\n",
    "    return 1- 2* np.random.binomial(1, 0.5, size=n)\n",
    "generate_n_random_signs(10)*np.random.randint(1, 10, 10)"
   ]
  },
  {
   "cell_type": "code",
   "execution_count": 221,
   "metadata": {},
   "outputs": [
    {
     "name": "stderr",
     "output_type": "stream",
     "text": [
      "100%|██████████████████████████████████████████████████████████████████████| 1000000/1000000 [08:04<00:00, 2062.25it/s]\n"
     ]
    }
   ],
   "source": [
    "dist_test_stat = []\n",
    "np.random.seed(85)\n",
    "n = len(diff_score)\n",
    "for i in tqdm(range(1000000)):\n",
    "    out = generate_n_random_signs(n) * diff_score\n",
    "    ts_cal = out.mean()\n",
    "    dist_test_stat.append(ts_cal)"
   ]
  },
  {
   "cell_type": "code",
   "execution_count": 228,
   "metadata": {},
   "outputs": [
    {
     "data": {
      "text/plain": [
       "<matplotlib.legend.Legend at 0x1b399f9cb08>"
      ]
     },
     "execution_count": 228,
     "metadata": {},
     "output_type": "execute_result"
    },
    {
     "data": {
      "image/png": "[encoded data removed]",
      "text/plain": [
       "<Figure size 842.4x595.44 with 1 Axes>"
      ]
     },
     "metadata": {
      "needs_background": "light"
     },
     "output_type": "display_data"
    }
   ],
   "source": [
    "##plotting\n",
    "sns.distplot(dist_test_stat, hist=True, kde=True, color='red', norm_hist=True, label=\"Test Statistic distribution\")\n",
    "plt.legend()"
   ]
  },
  {
   "cell_type": "code",
   "execution_count": 229,
   "metadata": {},
   "outputs": [],
   "source": [
    "prob = sum(np.array(dist_test_stat)>=T_obs)/1000000"
   ]
  },
  {
   "cell_type": "markdown",
   "metadata": {},
   "source": [
    "Step-5: Calculation the P Value"
   ]
  },
  {
   "cell_type": "code",
   "execution_count": 230,
   "metadata": {},
   "outputs": [
    {
     "name": "stdout",
     "output_type": "stream",
     "text": [
      "P_value 2e-06\n"
     ]
    }
   ],
   "source": [
    "P_value = 2*np.min([0.5, prob, 1-prob])\n",
    "print('P_value', P_value)"
   ]
  },
  {
   "cell_type": "markdown",
   "metadata": {},
   "source": [
    "Step-6: Make a Decision:\n",
    "\n",
    "For Significance Level of 5% (95% CL), P value is very less so we reject the null hypothisis in favour of alternate. \n"
   ]
  },
  {
   "cell_type": "markdown",
   "metadata": {},
   "source": [
    "You can do all the avove with permute module of Python. "
   ]
  },
  {
   "cell_type": "markdown",
   "metadata": {},
   "source": [
    "#### Code with permute module"
   ]
  },
  {
   "cell_type": "code",
   "execution_count": 245,
   "metadata": {},
   "outputs": [],
   "source": [
    "from permute.core import one_sample\n",
    "one_sample_test = one_sample(x=diff_score, reps=100000, \n",
    "                         stat='mean', alternative='two-sided', keep_dist=False, seed=10)"
   ]
  },
  {
   "cell_type": "code",
   "execution_count": 246,
   "metadata": {},
   "outputs": [
    {
     "data": {
      "text/plain": [
       "(1.999980000199998e-05, 1.115)"
      ]
     },
     "execution_count": 246,
     "metadata": {},
     "output_type": "execute_result"
    }
   ],
   "source": [
    "print(\"observed test Statistic\", one_sample_test[1])\n",
    "print(\"P-Value\", one_sample_test[0])"
   ]
  },
  {
   "cell_type": "markdown",
   "metadata": {},
   "source": [
    "## Comparing N independent samples: ( Permutation ANOVA) \n",
    "1. N groups must be independent with-in groups as well as between the groups. \n",
    "2. If we have skewness in the sample distribution, we need more samples for hypothesis testing. \n",
    "\n",
    "You can read about ANOVA at [this](https://www.statisticshowto.com/probability-and-statistics/hypothesis-testing/anova/) or [this](https://www.analyticsvidhya.com/blog/2018/01/anova-analysis-of-variance/).  \n",
    "\n",
    "\n",
    "<br>\n",
    "\n",
    "#### One-Way ANOVA: \n",
    "Using one way ANOVA, we can compare the K groups variability. Those K groups must be independent. \n",
    "\n",
    "Test statistic for one way ANOVA = $\\sum_{k=1}^K n_k(\\overline{X_k} - \\overline{X})^2$  \n",
    "$n_k$ = number of samples in group k  \n",
    "$\\overline{X_k}$ = Mean of group k  \n",
    "$\\overline{X}$ = Total mean (All groups)\n",
    "\n",
    "Except for the test statistic, everything is the same, we will permute the groups and calculate the test stat distribution. \n",
    "\n",
    "<br>\n",
    "\n",
    "##### Steps:\n",
    "1. Null Hypothesis - all the means are equal\n",
    "2. Alternate Hypothesis - all means are not equal\n",
    "4. Calculate the observed test statistic\n",
    "4. n times:  \n",
    "    4.1. permute the values. take the first n1 as the first group, next n2 as the second group, .. nk as kth group.   \n",
    "    4.2. calculate the test statistic using the above formula and add to the final dist.       \n",
    "4. Plot the distribution and calculate the P-value. \n",
    "\n",
    "<br>\n",
    "\n",
    "\n",
    "You can do above all with permute\n"
   ]
  },
  {
   "cell_type": "code",
   "execution_count": 250,
   "metadata": {},
   "outputs": [
    {
     "data": {
      "text/plain": [
       "some college          226\n",
       "associate's degree    222\n",
       "high school           196\n",
       "some high school      179\n",
       "bachelor's degree     118\n",
       "master's degree        59\n",
       "Name: parental level of education, dtype: int64"
      ]
     },
     "execution_count": 250,
     "metadata": {},
     "output_type": "execute_result"
    }
   ],
   "source": [
    "sample_data['parental level of education'].value_counts()"
   ]
  },
  {
   "cell_type": "code",
   "execution_count": 257,
   "metadata": {},
   "outputs": [],
   "source": [
    "math_scores = sample_data['math score']\n",
    "education_groups = sample_data['parental level of education'].values"
   ]
  },
  {
   "cell_type": "markdown",
   "metadata": {},
   "source": [
    "Null Hypothesis = math scores of every group of education is same.  \n",
    "Alternate Hypothesis = math scores are different in groups.  "
   ]
  },
  {
   "cell_type": "code",
   "execution_count": 263,
   "metadata": {},
   "outputs": [],
   "source": [
    "from permute.ksample import k_sample\n",
    "ns_oneway_anova = k_sample(x=math_scores, group=education_groups, reps=100000, stat='one-way anova', keep_dist=True, seed=10 )"
   ]
  },
  {
   "cell_type": "code",
   "execution_count": 265,
   "metadata": {},
   "outputs": [
    {
     "data": {
      "text/plain": [
       "<matplotlib.legend.Legend at 0x1b39a1d0bc8>"
      ]
     },
     "execution_count": 265,
     "metadata": {},
     "output_type": "execute_result"
    },
    {
     "data": {
      "image/png": "[encoded data removed]",
      "text/plain": [
       "<Figure size 842.4x595.44 with 1 Axes>"
      ]
     },
     "metadata": {
      "needs_background": "light"
     },
     "output_type": "display_data"
    }
   ],
   "source": [
    "sns.distplot(ns_oneway_anova[2], hist=True, kde=True, color='red', norm_hist=True, label=\"Test Statistic distribution\")\n",
    "plt.legend()"
   ]
  },
  {
   "cell_type": "code",
   "execution_count": 266,
   "metadata": {},
   "outputs": [
    {
     "name": "stdout",
     "output_type": "stream",
     "text": [
      "observed test Statistic 7295.561831098111\n",
      "P-Value 9.99990000099999e-06\n"
     ]
    }
   ],
   "source": [
    "print(\"observed test Statistic\", ns_oneway_anova[1])\n",
    "print(\"P-Value\", ns_oneway_anova[0])"
   ]
  },
  {
   "cell_type": "markdown",
   "metadata": {},
   "source": [
    "We can do two way anowas with `permute.ksample.bivariate_k_sample`"
   ]
  }
 ],
 "metadata": {
  "kernelspec": {
   "display_name": "Python 3",
   "language": "python",
   "name": "python3"
  },
  "language_info": {
   "codemirror_mode": {
    "name": "ipython",
    "version": 3
   },
   "file_extension": ".py",
   "mimetype": "text/x-python",
   "name": "python",
   "nbconvert_exporter": "python",
   "pygments_lexer": "ipython3",
   "version": "3.7.7"
  }
 },
 "nbformat": 4,
 "nbformat_minor": 4
}
